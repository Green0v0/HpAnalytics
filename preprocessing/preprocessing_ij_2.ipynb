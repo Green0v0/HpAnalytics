{
 "cells": [
  {
   "cell_type": "markdown",
   "id": "trying-gasoline",
   "metadata": {},
   "source": [
    "# 전처리"
   ]
  },
  {
   "cell_type": "code",
   "execution_count": 211,
   "id": "metallic-gibraltar",
   "metadata": {},
   "outputs": [],
   "source": [
    "import numpy as np\n",
    "import pandas as pd\n",
    "import matplotlib as mpl\n",
    "import matplotlib.pyplot as plt\n",
    "import seaborn as sns\n",
    "from sklearn.model_selection import train_test_split, GridSearchCV, RandomizedSearchCV\n",
    "from sklearn.preprocessing import LabelEncoder, OneHotEncoder\n",
    "from sklearn.tree import DecisionTreeClassifier\n",
    "from sklearn.metrics import accuracy_score, classification_report, roc_auc_score\n",
    "\n",
    "mpl.style.use('seaborn')\n",
    "mpl.rcParams[\"font.family\"] = 'Malgun Gothic'\n",
    "mpl.rcParams[\"axes.unicode_minus\"] = False"
   ]
  },
  {
   "cell_type": "code",
   "execution_count": 212,
   "id": "disturbed-comparative",
   "metadata": {},
   "outputs": [],
   "source": [
    "import time\n",
    "def my_time(func):\n",
    "    def wrapper():\n",
    "        str_time = time.time()\n",
    "        func()\n",
    "        end_time = time.time()\n",
    "        print(end_time-str_time, '초 소요')\n",
    "    return wrapper"
   ]
  },
  {
   "cell_type": "code",
   "execution_count": 213,
   "id": "specialized-withdrawal",
   "metadata": {},
   "outputs": [],
   "source": [
    "X_train = pd.read_csv('../data/aug_train.csv')\n",
    "X_test = pd.read_csv('../data/aug_test.csv')"
   ]
  },
  {
   "cell_type": "code",
   "execution_count": 214,
   "id": "transparent-weather",
   "metadata": {},
   "outputs": [],
   "source": [
    "X_test['target'] = -1"
   ]
  },
  {
   "cell_type": "code",
   "execution_count": 215,
   "id": "academic-upgrade",
   "metadata": {},
   "outputs": [
    {
     "data": {
      "text/plain": [
       "((19158, 14),\n",
       " Index(['enrollee_id', 'city', 'city_development_index', 'gender',\n",
       "        'relevent_experience', 'enrolled_university', 'education_level',\n",
       "        'major_discipline', 'experience', 'company_size', 'company_type',\n",
       "        'last_new_job', 'training_hours', 'target'],\n",
       "       dtype='object'),\n",
       " (2129, 14),\n",
       " Index(['enrollee_id', 'city', 'city_development_index', 'gender',\n",
       "        'relevent_experience', 'enrolled_university', 'education_level',\n",
       "        'major_discipline', 'experience', 'company_size', 'company_type',\n",
       "        'last_new_job', 'training_hours', 'target'],\n",
       "       dtype='object'))"
      ]
     },
     "execution_count": 215,
     "metadata": {},
     "output_type": "execute_result"
    }
   ],
   "source": [
    "X_train.shape, X_train.columns, X_test.shape, X_test.columns"
   ]
  },
  {
   "cell_type": "code",
   "execution_count": 216,
   "id": "heated-found",
   "metadata": {},
   "outputs": [],
   "source": [
    "X = pd.concat([X_train, X_test])\n",
    "# X.drop(columns=['enrollee_id','target'],inplace=True)"
   ]
  },
  {
   "cell_type": "code",
   "execution_count": 217,
   "id": "competent-cattle",
   "metadata": {},
   "outputs": [
    {
     "data": {
      "text/plain": [
       "(21287, 14)"
      ]
     },
     "execution_count": 217,
     "metadata": {},
     "output_type": "execute_result"
    }
   ],
   "source": [
    "X.shape"
   ]
  },
  {
   "cell_type": "markdown",
   "id": "sunrise-function",
   "metadata": {},
   "source": [
    "#### 해당 컬럼부터 숫자형으로 변경"
   ]
  },
  {
   "cell_type": "code",
   "execution_count": 218,
   "id": "polyphonic-error",
   "metadata": {},
   "outputs": [],
   "source": [
    "numeric_feature = ['city_development_index', 'training_hours',\n",
    "                   'education_level', 'last_new_job',  'experience', 'enrolled_university']"
   ]
  },
  {
   "cell_type": "markdown",
   "id": "unnecessary-failure",
   "metadata": {},
   "source": [
    "#### edu_lvl"
   ]
  },
  {
   "cell_type": "code",
   "execution_count": 219,
   "id": "rolled-motor",
   "metadata": {},
   "outputs": [],
   "source": [
    "education_level = ['Primary School', 'High School', 'Graduate', 'Masters', 'Phd']\n",
    "for i, v in enumerate(education_level):\n",
    "    X.loc[X['education_level']==v, 'education_level'] = i"
   ]
  },
  {
   "cell_type": "markdown",
   "id": "prostate-visibility",
   "metadata": {},
   "source": [
    "#### last_new_job"
   ]
  },
  {
   "cell_type": "code",
   "execution_count": 220,
   "id": "ranking-lexington",
   "metadata": {},
   "outputs": [],
   "source": [
    "X.loc[X['last_new_job'] == '>4', 'last_new_job'] = 5\n",
    "X.loc[X['last_new_job'] == 'never', 'last_new_job'] = 0\n",
    "\n",
    "X['last_new_job'] = pd.to_numeric(X['last_new_job'], downcast='integer')"
   ]
  },
  {
   "cell_type": "markdown",
   "id": "public-adjustment",
   "metadata": {},
   "source": [
    "#### exp"
   ]
  },
  {
   "cell_type": "code",
   "execution_count": 221,
   "id": "precious-calvin",
   "metadata": {},
   "outputs": [],
   "source": [
    "X.loc[X['experience'] == '>20', 'experience'] = 21\n",
    "X.loc[X['experience'] == '<1', 'experience'] = 0\n",
    "\n",
    "X['experience'] = pd.to_numeric(X['experience'], downcast='integer')"
   ]
  },
  {
   "cell_type": "markdown",
   "id": "victorian-christianity",
   "metadata": {},
   "source": [
    "#### enroll"
   ]
  },
  {
   "cell_type": "code",
   "execution_count": 222,
   "id": "subject-bangladesh",
   "metadata": {},
   "outputs": [],
   "source": [
    "enrolls = ['no_enrollment','Part time course','Full time course']\n",
    "for i,v in enumerate(enrolls):\n",
    "    X.loc[X['enrolled_university'] == v, 'enrolled_university'] = i"
   ]
  },
  {
   "cell_type": "markdown",
   "id": "pretty-constant",
   "metadata": {},
   "source": [
    "#### gender"
   ]
  },
  {
   "cell_type": "code",
   "execution_count": 227,
   "id": "interested-adelaide",
   "metadata": {},
   "outputs": [],
   "source": [
    "X['gender'].fillna('Male', inplace=True)"
   ]
  },
  {
   "cell_type": "markdown",
   "id": "colonial-birthday",
   "metadata": {},
   "source": [
    "#### company_size, type"
   ]
  },
  {
   "cell_type": "code",
   "execution_count": 228,
   "id": "lasting-dictionary",
   "metadata": {},
   "outputs": [],
   "source": [
    "X.loc[X['company_size']=='<10', 'company_size'] = '~10'\n",
    "X.loc[X['company_size']=='10/49', 'company_size'] = '10~49'\n",
    "\n",
    "company_siz = ['~10', '10~49', '50-99', '100-500', '500-999','1000-4999','5000-9999','10000+']\n",
    "for i, v in enumerate(company_siz):\n",
    "    X.loc[X['company_size']==v, 'company_size'] = i"
   ]
  },
  {
   "cell_type": "markdown",
   "id": "whole-reset",
   "metadata": {},
   "source": [
    "#### major:  최빈값과 나머지의 합과의 비율 차이가 크므로 최빈값 major로 처리"
   ]
  },
  {
   "cell_type": "code",
   "execution_count": 230,
   "id": "sorted-melbourne",
   "metadata": {},
   "outputs": [
    {
     "name": "stdout",
     "output_type": "stream",
     "text": [
      "['Humanities', 'Other', 'Business Degree', 'Arts', 'No Major']\n"
     ]
    }
   ],
   "source": [
    "nomajor_lst = list(X['major_discipline'].value_counts().index)\n",
    "nomajor_lst.remove('STEM')\n",
    "print(nomajor_lst)"
   ]
  },
  {
   "cell_type": "code",
   "execution_count": 231,
   "id": "electric-interim",
   "metadata": {},
   "outputs": [],
   "source": [
    "X.loc[(X['major_discipline'] == 'STEM')|(X['major_discipline'].isna()) , 'major_discipline'] = 'major'\n",
    "X.loc[X['major_discipline'] != 'major', 'major_discipline'] = 'no_major'"
   ]
  },
  {
   "cell_type": "markdown",
   "id": "approximate-spirituality",
   "metadata": {},
   "source": [
    "### 인코딩 전 현재 위아래로 concat되있어 \n",
    "### 중복되있으므로 인덱스 순번대로 재지정"
   ]
  },
  {
   "cell_type": "code",
   "execution_count": 232,
   "id": "tracked-camera",
   "metadata": {},
   "outputs": [],
   "source": [
    "X.reset_index(drop=True, inplace=True)"
   ]
  },
  {
   "cell_type": "markdown",
   "id": "specialized-first",
   "metadata": {},
   "source": [
    "### 라벨링"
   ]
  },
  {
   "cell_type": "code",
   "execution_count": 233,
   "id": "reflected-moral",
   "metadata": {},
   "outputs": [
    {
     "data": {
      "text/plain": [
       "['city',\n",
       " 'gender',\n",
       " 'relevent_experience',\n",
       " 'enrolled_university',\n",
       " 'education_level',\n",
       " 'major_discipline',\n",
       " 'company_size',\n",
       " 'company_type']"
      ]
     },
     "execution_count": 233,
     "metadata": {},
     "output_type": "execute_result"
    }
   ],
   "source": [
    "to_lb = list(X.columns[X[X.columns].dtypes == 'object'])\n",
    "to_lb"
   ]
  },
  {
   "cell_type": "code",
   "execution_count": 234,
   "id": "temporal-johnson",
   "metadata": {},
   "outputs": [
    {
     "data": {
      "text/html": [
       "<div>\n",
       "<style scoped>\n",
       "    .dataframe tbody tr th:only-of-type {\n",
       "        vertical-align: middle;\n",
       "    }\n",
       "\n",
       "    .dataframe tbody tr th {\n",
       "        vertical-align: top;\n",
       "    }\n",
       "\n",
       "    .dataframe thead th {\n",
       "        text-align: right;\n",
       "    }\n",
       "</style>\n",
       "<table border=\"1\" class=\"dataframe\">\n",
       "  <thead>\n",
       "    <tr style=\"text-align: right;\">\n",
       "      <th></th>\n",
       "      <th>enrollee_id</th>\n",
       "      <th>city</th>\n",
       "      <th>city_development_index</th>\n",
       "      <th>gender</th>\n",
       "      <th>relevent_experience</th>\n",
       "      <th>enrolled_university</th>\n",
       "      <th>education_level</th>\n",
       "      <th>major_discipline</th>\n",
       "      <th>experience</th>\n",
       "      <th>company_size</th>\n",
       "      <th>company_type</th>\n",
       "      <th>last_new_job</th>\n",
       "      <th>training_hours</th>\n",
       "      <th>target</th>\n",
       "    </tr>\n",
       "  </thead>\n",
       "  <tbody>\n",
       "    <tr>\n",
       "      <th>0</th>\n",
       "      <td>8949</td>\n",
       "      <td>5</td>\n",
       "      <td>0.920</td>\n",
       "      <td>1</td>\n",
       "      <td>0</td>\n",
       "      <td>0</td>\n",
       "      <td>2</td>\n",
       "      <td>0</td>\n",
       "      <td>21.0</td>\n",
       "      <td>8</td>\n",
       "      <td>6</td>\n",
       "      <td>1.0</td>\n",
       "      <td>36</td>\n",
       "      <td>1.0</td>\n",
       "    </tr>\n",
       "    <tr>\n",
       "      <th>1</th>\n",
       "      <td>29725</td>\n",
       "      <td>77</td>\n",
       "      <td>0.776</td>\n",
       "      <td>1</td>\n",
       "      <td>1</td>\n",
       "      <td>0</td>\n",
       "      <td>2</td>\n",
       "      <td>0</td>\n",
       "      <td>15.0</td>\n",
       "      <td>2</td>\n",
       "      <td>5</td>\n",
       "      <td>5.0</td>\n",
       "      <td>47</td>\n",
       "      <td>0.0</td>\n",
       "    </tr>\n",
       "    <tr>\n",
       "      <th>2</th>\n",
       "      <td>11561</td>\n",
       "      <td>64</td>\n",
       "      <td>0.624</td>\n",
       "      <td>1</td>\n",
       "      <td>1</td>\n",
       "      <td>2</td>\n",
       "      <td>2</td>\n",
       "      <td>0</td>\n",
       "      <td>5.0</td>\n",
       "      <td>8</td>\n",
       "      <td>6</td>\n",
       "      <td>0.0</td>\n",
       "      <td>83</td>\n",
       "      <td>0.0</td>\n",
       "    </tr>\n",
       "    <tr>\n",
       "      <th>3</th>\n",
       "      <td>33241</td>\n",
       "      <td>14</td>\n",
       "      <td>0.789</td>\n",
       "      <td>1</td>\n",
       "      <td>1</td>\n",
       "      <td>3</td>\n",
       "      <td>2</td>\n",
       "      <td>1</td>\n",
       "      <td>0.0</td>\n",
       "      <td>8</td>\n",
       "      <td>5</td>\n",
       "      <td>0.0</td>\n",
       "      <td>52</td>\n",
       "      <td>1.0</td>\n",
       "    </tr>\n",
       "    <tr>\n",
       "      <th>4</th>\n",
       "      <td>666</td>\n",
       "      <td>50</td>\n",
       "      <td>0.767</td>\n",
       "      <td>1</td>\n",
       "      <td>0</td>\n",
       "      <td>0</td>\n",
       "      <td>3</td>\n",
       "      <td>0</td>\n",
       "      <td>21.0</td>\n",
       "      <td>2</td>\n",
       "      <td>1</td>\n",
       "      <td>4.0</td>\n",
       "      <td>8</td>\n",
       "      <td>0.0</td>\n",
       "    </tr>\n",
       "    <tr>\n",
       "      <th>...</th>\n",
       "      <td>...</td>\n",
       "      <td>...</td>\n",
       "      <td>...</td>\n",
       "      <td>...</td>\n",
       "      <td>...</td>\n",
       "      <td>...</td>\n",
       "      <td>...</td>\n",
       "      <td>...</td>\n",
       "      <td>...</td>\n",
       "      <td>...</td>\n",
       "      <td>...</td>\n",
       "      <td>...</td>\n",
       "      <td>...</td>\n",
       "      <td>...</td>\n",
       "    </tr>\n",
       "    <tr>\n",
       "      <th>21282</th>\n",
       "      <td>1289</td>\n",
       "      <td>5</td>\n",
       "      <td>0.920</td>\n",
       "      <td>1</td>\n",
       "      <td>1</td>\n",
       "      <td>0</td>\n",
       "      <td>2</td>\n",
       "      <td>1</td>\n",
       "      <td>16.0</td>\n",
       "      <td>8</td>\n",
       "      <td>4</td>\n",
       "      <td>4.0</td>\n",
       "      <td>15</td>\n",
       "      <td>-1.0</td>\n",
       "    </tr>\n",
       "    <tr>\n",
       "      <th>21283</th>\n",
       "      <td>195</td>\n",
       "      <td>30</td>\n",
       "      <td>0.897</td>\n",
       "      <td>1</td>\n",
       "      <td>0</td>\n",
       "      <td>0</td>\n",
       "      <td>3</td>\n",
       "      <td>0</td>\n",
       "      <td>18.0</td>\n",
       "      <td>8</td>\n",
       "      <td>6</td>\n",
       "      <td>2.0</td>\n",
       "      <td>30</td>\n",
       "      <td>-1.0</td>\n",
       "    </tr>\n",
       "    <tr>\n",
       "      <th>21284</th>\n",
       "      <td>31762</td>\n",
       "      <td>2</td>\n",
       "      <td>0.887</td>\n",
       "      <td>1</td>\n",
       "      <td>1</td>\n",
       "      <td>0</td>\n",
       "      <td>0</td>\n",
       "      <td>0</td>\n",
       "      <td>3.0</td>\n",
       "      <td>8</td>\n",
       "      <td>5</td>\n",
       "      <td>0.0</td>\n",
       "      <td>18</td>\n",
       "      <td>-1.0</td>\n",
       "    </tr>\n",
       "    <tr>\n",
       "      <th>21285</th>\n",
       "      <td>7873</td>\n",
       "      <td>4</td>\n",
       "      <td>0.804</td>\n",
       "      <td>1</td>\n",
       "      <td>0</td>\n",
       "      <td>2</td>\n",
       "      <td>1</td>\n",
       "      <td>0</td>\n",
       "      <td>7.0</td>\n",
       "      <td>3</td>\n",
       "      <td>4</td>\n",
       "      <td>1.0</td>\n",
       "      <td>84</td>\n",
       "      <td>-1.0</td>\n",
       "    </tr>\n",
       "    <tr>\n",
       "      <th>21286</th>\n",
       "      <td>12215</td>\n",
       "      <td>4</td>\n",
       "      <td>0.804</td>\n",
       "      <td>1</td>\n",
       "      <td>0</td>\n",
       "      <td>0</td>\n",
       "      <td>3</td>\n",
       "      <td>0</td>\n",
       "      <td>15.0</td>\n",
       "      <td>7</td>\n",
       "      <td>5</td>\n",
       "      <td>2.0</td>\n",
       "      <td>11</td>\n",
       "      <td>-1.0</td>\n",
       "    </tr>\n",
       "  </tbody>\n",
       "</table>\n",
       "<p>21287 rows × 14 columns</p>\n",
       "</div>"
      ],
      "text/plain": [
       "       enrollee_id  city  city_development_index  gender  relevent_experience  \\\n",
       "0             8949     5                   0.920       1                    0   \n",
       "1            29725    77                   0.776       1                    1   \n",
       "2            11561    64                   0.624       1                    1   \n",
       "3            33241    14                   0.789       1                    1   \n",
       "4              666    50                   0.767       1                    0   \n",
       "...            ...   ...                     ...     ...                  ...   \n",
       "21282         1289     5                   0.920       1                    1   \n",
       "21283          195    30                   0.897       1                    0   \n",
       "21284        31762     2                   0.887       1                    1   \n",
       "21285         7873     4                   0.804       1                    0   \n",
       "21286        12215     4                   0.804       1                    0   \n",
       "\n",
       "       enrolled_university  education_level  major_discipline  experience  \\\n",
       "0                        0                2                 0        21.0   \n",
       "1                        0                2                 0        15.0   \n",
       "2                        2                2                 0         5.0   \n",
       "3                        3                2                 1         0.0   \n",
       "4                        0                3                 0        21.0   \n",
       "...                    ...              ...               ...         ...   \n",
       "21282                    0                2                 1        16.0   \n",
       "21283                    0                3                 0        18.0   \n",
       "21284                    0                0                 0         3.0   \n",
       "21285                    2                1                 0         7.0   \n",
       "21286                    0                3                 0        15.0   \n",
       "\n",
       "       company_size  company_type  last_new_job  training_hours  target  \n",
       "0                 8             6           1.0              36     1.0  \n",
       "1                 2             5           5.0              47     0.0  \n",
       "2                 8             6           0.0              83     0.0  \n",
       "3                 8             5           0.0              52     1.0  \n",
       "4                 2             1           4.0               8     0.0  \n",
       "...             ...           ...           ...             ...     ...  \n",
       "21282             8             4           4.0              15    -1.0  \n",
       "21283             8             6           2.0              30    -1.0  \n",
       "21284             8             5           0.0              18    -1.0  \n",
       "21285             3             4           1.0              84    -1.0  \n",
       "21286             7             5           2.0              11    -1.0  \n",
       "\n",
       "[21287 rows x 14 columns]"
      ]
     },
     "execution_count": 234,
     "metadata": {},
     "output_type": "execute_result"
    }
   ],
   "source": [
    "def lbe(x):\n",
    "    if x.name in to_lb:\n",
    "        return LabelEncoder().fit_transform(x)\n",
    "    else:\n",
    "        return x\n",
    "    \n",
    "X_new = X.apply(lbe)\n",
    "X_new"
   ]
  },
  {
   "cell_type": "markdown",
   "id": "blind-roulette",
   "metadata": {},
   "source": [
    "#### 남은 결측치는 KNN으로"
   ]
  },
  {
   "cell_type": "code",
   "execution_count": 237,
   "id": "level-cuisine",
   "metadata": {},
   "outputs": [
    {
     "data": {
      "text/plain": [
       "['enrolled_university',\n",
       " 'education_level',\n",
       " 'experience',\n",
       " 'company_size',\n",
       " 'company_type',\n",
       " 'last_new_job']"
      ]
     },
     "execution_count": 237,
     "metadata": {},
     "output_type": "execute_result"
    }
   ],
   "source": [
    "under_list"
   ]
  },
  {
   "cell_type": "code",
   "execution_count": 238,
   "id": "friendly-version",
   "metadata": {
    "scrolled": true
   },
   "outputs": [],
   "source": [
    "from sklearn.impute import KNNImputer\n",
    "\n",
    "under_list = []\n",
    "for col in X_new.columns:\n",
    "    if X_new[col].isna().sum():\n",
    "        under_list.append(col)\n",
    "        \n",
    "imputer = KNNImputer(n_neighbors = 1)\n",
    "X_new[under_list] = imputer.fit_transform(X_new[under_list])"
   ]
  },
  {
   "cell_type": "markdown",
   "id": "contrary-mobile",
   "metadata": {},
   "source": [
    "### StandardScaled"
   ]
  },
  {
   "cell_type": "code",
   "execution_count": 239,
   "id": "phantom-sleep",
   "metadata": {},
   "outputs": [],
   "source": [
    "from sklearn.preprocessing import StandardScaler\n",
    "\n",
    "y_tmp = X_new['target']\n",
    "X_scaled = StandardScaler().fit_transform(X_new)\n",
    "X_scaled_df = pd.DataFrame(X_scaled, columns=X_new.columns)\n",
    "X_scaled_df.drop(columns='target',inplace=True)\n",
    "X_scaled_df = pd.concat([X_scaled_df, y_tmp], axis=1)"
   ]
  },
  {
   "cell_type": "markdown",
   "id": "immune-assist",
   "metadata": {},
   "source": [
    "#### enrollee_id 제거, 다시 train,test 분리 후 target 분리"
   ]
  },
  {
   "cell_type": "code",
   "execution_count": 240,
   "id": "metric-shepherd",
   "metadata": {},
   "outputs": [
    {
     "data": {
      "text/plain": [
       "0        1.0\n",
       "1        0.0\n",
       "2        0.0\n",
       "3        1.0\n",
       "4        0.0\n",
       "        ... \n",
       "21282   -1.0\n",
       "21283   -1.0\n",
       "21284   -1.0\n",
       "21285   -1.0\n",
       "21286   -1.0\n",
       "Name: target, Length: 21287, dtype: float64"
      ]
     },
     "execution_count": 240,
     "metadata": {},
     "output_type": "execute_result"
    }
   ],
   "source": [
    "X_scaled_df.loc[X_scaled_df.index,'target']"
   ]
  },
  {
   "cell_type": "code",
   "execution_count": 241,
   "id": "horizontal-jacksonville",
   "metadata": {},
   "outputs": [
    {
     "name": "stderr",
     "output_type": "stream",
     "text": [
      "c:\\users\\inje.jeong\\anaconda3\\envs\\ml\\lib\\site-packages\\pandas\\core\\frame.py:4315: SettingWithCopyWarning: \n",
      "A value is trying to be set on a copy of a slice from a DataFrame\n",
      "\n",
      "See the caveats in the documentation: https://pandas.pydata.org/pandas-docs/stable/user_guide/indexing.html#returning-a-view-versus-a-copy\n",
      "  errors=errors,\n"
     ]
    }
   ],
   "source": [
    "X_train = X_scaled_df.loc[X_scaled_df.loc[X_scaled_df.index, 'target'] != -1]\n",
    "X_test = X_scaled_df.loc[X_scaled_df.loc[X_scaled_df.index, 'target'] == -1]\n",
    "X_test.drop(columns='target',inplace=True)"
   ]
  },
  {
   "cell_type": "markdown",
   "id": "increasing-applicant",
   "metadata": {},
   "source": [
    "#### 테이블 저장"
   ]
  },
  {
   "cell_type": "code",
   "execution_count": 242,
   "id": "massive-memorabilia",
   "metadata": {},
   "outputs": [],
   "source": [
    "X_train.to_csv('../data/prepcd_lbe_train.csv', index=False)\n",
    "X_test.to_csv('../data/prepcd_lbe_test.csv', index=False)"
   ]
  }
 ],
 "metadata": {
  "kernelspec": {
   "display_name": "Python 3",
   "language": "python",
   "name": "python3"
  },
  "language_info": {
   "codemirror_mode": {
    "name": "ipython",
    "version": 3
   },
   "file_extension": ".py",
   "mimetype": "text/x-python",
   "name": "python",
   "nbconvert_exporter": "python",
   "pygments_lexer": "ipython3",
   "version": "3.7.10"
  }
 },
 "nbformat": 4,
 "nbformat_minor": 5
}
