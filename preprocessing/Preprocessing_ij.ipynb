{
 "cells": [
  {
   "cell_type": "markdown",
   "id": "trying-gasoline",
   "metadata": {},
   "source": [
    "# 전처리"
   ]
  },
  {
   "cell_type": "code",
   "execution_count": 123,
   "id": "metallic-gibraltar",
   "metadata": {},
   "outputs": [],
   "source": [
    "import numpy as np\n",
    "import pandas as pd\n",
    "import matplotlib as mpl\n",
    "import matplotlib.pyplot as plt\n",
    "import seaborn as sns\n",
    "from sklearn.model_selection import train_test_split, GridSearchCV, RandomizedSearchCV\n",
    "from sklearn.preprocessing import LabelEncoder, OneHotEncoder\n",
    "from sklearn.tree import DecisionTreeClassifier\n",
    "from sklearn.metrics import accuracy_score, classification_report, roc_auc_score\n",
    "\n",
    "mpl.style.use('seaborn')\n",
    "mpl.rcParams[\"font.family\"] = 'Malgun Gothic'\n",
    "mpl.rcParams[\"axes.unicode_minus\"] = False"
   ]
  },
  {
   "cell_type": "code",
   "execution_count": 124,
   "id": "disturbed-comparative",
   "metadata": {},
   "outputs": [],
   "source": [
    "import time\n",
    "def my_time(func):\n",
    "    def wrapper():\n",
    "        str_time = time.time()\n",
    "        func()\n",
    "        end_time = time.time()\n",
    "        print(end_time-str_time, '초 소요')\n",
    "    return wrapper"
   ]
  },
  {
   "cell_type": "code",
   "execution_count": 125,
   "id": "specialized-withdrawal",
   "metadata": {},
   "outputs": [],
   "source": [
    "X_train = pd.read_csv('../data/aug_train.csv')\n",
    "X_test = pd.read_csv('../data/aug_test.csv')"
   ]
  },
  {
   "cell_type": "code",
   "execution_count": 126,
   "id": "transparent-weather",
   "metadata": {},
   "outputs": [],
   "source": [
    "X_test['target'] = -1"
   ]
  },
  {
   "cell_type": "code",
   "execution_count": 127,
   "id": "academic-upgrade",
   "metadata": {},
   "outputs": [
    {
     "data": {
      "text/plain": [
       "((19158, 14),\n",
       " Index(['enrollee_id', 'city', 'city_development_index', 'gender',\n",
       "        'relevent_experience', 'enrolled_university', 'education_level',\n",
       "        'major_discipline', 'experience', 'company_size', 'company_type',\n",
       "        'last_new_job', 'training_hours', 'target'],\n",
       "       dtype='object'),\n",
       " (2129, 14),\n",
       " Index(['enrollee_id', 'city', 'city_development_index', 'gender',\n",
       "        'relevent_experience', 'enrolled_university', 'education_level',\n",
       "        'major_discipline', 'experience', 'company_size', 'company_type',\n",
       "        'last_new_job', 'training_hours', 'target'],\n",
       "       dtype='object'))"
      ]
     },
     "execution_count": 127,
     "metadata": {},
     "output_type": "execute_result"
    }
   ],
   "source": [
    "X_train.shape, X_train.columns, X_test.shape, X_test.columns"
   ]
  },
  {
   "cell_type": "code",
   "execution_count": 128,
   "id": "heated-found",
   "metadata": {},
   "outputs": [],
   "source": [
    "X = pd.concat([X_train, X_test])\n",
    "# X.drop(columns=['enrollee_id','target'],inplace=True)"
   ]
  },
  {
   "cell_type": "code",
   "execution_count": 129,
   "id": "competent-cattle",
   "metadata": {},
   "outputs": [
    {
     "data": {
      "text/plain": [
       "(21287, 14)"
      ]
     },
     "execution_count": 129,
     "metadata": {},
     "output_type": "execute_result"
    }
   ],
   "source": [
    "X.shape"
   ]
  },
  {
   "cell_type": "markdown",
   "id": "sunrise-function",
   "metadata": {},
   "source": [
    "#### 해당 컬럼부터 숫자형으로 변경"
   ]
  },
  {
   "cell_type": "code",
   "execution_count": 130,
   "id": "polyphonic-error",
   "metadata": {},
   "outputs": [],
   "source": [
    "numeric_feature = ['city_development_index', 'training_hours',\n",
    "                   'education_level', 'last_new_job',  'experience', 'enrolled_university']"
   ]
  },
  {
   "cell_type": "code",
   "execution_count": 131,
   "id": "dietary-catch",
   "metadata": {},
   "outputs": [
    {
     "name": "stdout",
     "output_type": "stream",
     "text": [
      "93\n",
      "[0.92  0.776 0.624 0.789 0.767 0.764 0.762 0.913 0.926 0.827 0.843 0.804\n",
      " 0.855 0.887 0.91  0.884 0.924 0.666 0.558 0.923 0.794 0.754 0.939 0.55\n",
      " 0.865 0.698 0.893 0.796 0.866 0.682 0.802 0.579 0.878 0.897 0.949 0.925\n",
      " 0.896 0.836 0.693 0.769 0.775 0.903 0.555 0.727 0.64  0.516 0.743 0.899\n",
      " 0.915 0.689 0.895 0.89  0.847 0.527 0.766 0.738 0.647 0.795 0.74  0.701\n",
      " 0.493 0.84  0.691 0.735 0.742 0.479 0.722 0.921 0.848 0.856 0.898 0.83\n",
      " 0.73  0.68  0.725 0.556 0.448 0.763 0.745 0.645 0.788 0.78  0.512 0.739\n",
      " 0.563 0.518 0.824 0.487 0.649 0.781 0.625 0.807 0.664]\n",
      "241\n",
      "[ 36  47  83  52   8  24  18  46 123  32 108  23  26 106   7 132  68  50\n",
      "  48  65  13  22 148  72  40 141  82 145 206 152  42  14 112  87  20  21\n",
      "  92 102  43  45  19  90  25  15  98 142  28 228  29  12  17  35   4 136\n",
      "  27  74  86  75 332 140 182 172  33  34 150 160   3   2 210 101  59 260\n",
      " 131 109  70  51  60 164 290 133  76 156 120 100  39  55  49   6 125 326\n",
      " 198  11  41 114 246  81  31  84 105  38 178 104 202  88 218  62  10  80\n",
      "  77  37 162 190  30  16   5  54  44 110 262 107 134 103  96  57 240  94\n",
      " 113  56  64 320   9 129  58 126 166  95  97 204 116 161 146 302  53 143\n",
      " 124 214 288 306 322  67  61 130 220  78 314 226 280  91 234 163 151  85\n",
      " 256 168 144  66 128  73 122 154  63 292 188  71 135 138 184  89 157 118\n",
      " 111 192 127 216 139 196  99 167 276 121  69 155 316 242 304 284 278 310\n",
      " 222 212 250 180 258 330 158 149 165  79 194 176 174 312 200 328 300 153\n",
      " 232 336 308 147 298 224 254 248 236 170 264 119 117 334 324   1 238 266\n",
      " 282 268 244 272 294 270 286]\n",
      "6\n",
      "['Graduate' 'Masters' 'High School' nan 'Phd' 'Primary School']\n",
      "7\n",
      "['1' '>4' 'never' '4' '3' '2' nan]\n",
      "23\n",
      "['>20' '15' '5' '<1' '11' '13' '7' '17' '2' '16' '1' '4' '10' '14' '18'\n",
      " '19' '12' '3' '6' '9' '8' '20' nan]\n",
      "4\n",
      "['no_enrollment' 'Full time course' nan 'Part time course']\n"
     ]
    }
   ],
   "source": [
    "# 각 컬럼 데이터 개수부터 확인\n",
    "for col in numeric_feature:\n",
    "    print(X[col].unique().size)\n",
    "    print(X[col].unique())"
   ]
  },
  {
   "cell_type": "markdown",
   "id": "unnecessary-failure",
   "metadata": {},
   "source": [
    "#### edu_lvl"
   ]
  },
  {
   "cell_type": "code",
   "execution_count": 132,
   "id": "rolled-motor",
   "metadata": {},
   "outputs": [],
   "source": [
    "education_level = ['Primary School', 'High School', 'Graduate', 'Masters', 'Phd']\n",
    "for i, v in enumerate(education_level):\n",
    "    X.loc[X['education_level']==v, 'education_level'] = i"
   ]
  },
  {
   "cell_type": "code",
   "execution_count": 133,
   "id": "average-welding",
   "metadata": {},
   "outputs": [
    {
     "data": {
      "text/plain": [
       "2.0    12867\n",
       "3.0     4857\n",
       "1.0     2239\n",
       "NaN      512\n",
       "4.0      468\n",
       "0.0      344\n",
       "Name: education_level, dtype: int64"
      ]
     },
     "execution_count": 133,
     "metadata": {},
     "output_type": "execute_result"
    }
   ],
   "source": [
    "X['education_level'].value_counts(dropna=False)"
   ]
  },
  {
   "cell_type": "markdown",
   "id": "prostate-visibility",
   "metadata": {},
   "source": [
    "#### last_new_job"
   ]
  },
  {
   "cell_type": "code",
   "execution_count": 134,
   "id": "ranking-lexington",
   "metadata": {},
   "outputs": [],
   "source": [
    "X.loc[X['last_new_job'] == '>4', 'last_new_job'] = 5\n",
    "X.loc[X['last_new_job'] == 'never', 'last_new_job'] = 0\n",
    "\n",
    "X['last_new_job'] = pd.to_numeric(X['last_new_job'], downcast='integer')"
   ]
  },
  {
   "cell_type": "code",
   "execution_count": 135,
   "id": "average-bhutan",
   "metadata": {},
   "outputs": [
    {
     "data": {
      "text/plain": [
       "1.0    8924\n",
       "5.0    3643\n",
       "2.0    3242\n",
       "0.0    2710\n",
       "3.0    1157\n",
       "4.0    1148\n",
       "Name: last_new_job, dtype: int64"
      ]
     },
     "execution_count": 135,
     "metadata": {},
     "output_type": "execute_result"
    }
   ],
   "source": [
    "X['last_new_job'].value_counts()"
   ]
  },
  {
   "cell_type": "markdown",
   "id": "public-adjustment",
   "metadata": {},
   "source": [
    "#### exp"
   ]
  },
  {
   "cell_type": "code",
   "execution_count": 136,
   "id": "precious-calvin",
   "metadata": {},
   "outputs": [],
   "source": [
    "X.loc[X['experience'] == '>20', 'experience'] = 21\n",
    "X.loc[X['experience'] == '<1', 'experience'] = 0\n",
    "\n",
    "X['experience'] = pd.to_numeric(X['experience'], downcast='integer')"
   ]
  },
  {
   "cell_type": "code",
   "execution_count": 137,
   "id": "clear-expansion",
   "metadata": {},
   "outputs": [
    {
     "data": {
      "text/plain": [
       "21.0    3669\n",
       "5.0     1593\n",
       "4.0     1548\n",
       "3.0     1508\n",
       "6.0     1346\n",
       "2.0     1255\n",
       "7.0     1144\n",
       "9.0     1093\n",
       "10.0    1081\n",
       "8.0      884\n",
       "11.0     750\n",
       "15.0     745\n",
       "14.0     641\n",
       "1.0      605\n",
       "0.0      596\n",
       "16.0     576\n",
       "12.0     546\n",
       "13.0     453\n",
       "17.0     378\n",
       "19.0     333\n",
       "18.0     306\n",
       "20.0     167\n",
       "NaN       70\n",
       "Name: experience, dtype: int64"
      ]
     },
     "execution_count": 137,
     "metadata": {},
     "output_type": "execute_result"
    }
   ],
   "source": [
    "X['experience'].value_counts(dropna=False)"
   ]
  },
  {
   "cell_type": "markdown",
   "id": "victorian-christianity",
   "metadata": {},
   "source": [
    "#### enroll"
   ]
  },
  {
   "cell_type": "code",
   "execution_count": 138,
   "id": "subject-bangladesh",
   "metadata": {},
   "outputs": [],
   "source": [
    "enrolls = ['no_enrollment','Part time course','Full time course']\n",
    "for i,v in enumerate(enrolls):\n",
    "    X.loc[X['enrolled_university'] == v, 'enrolled_university'] = i"
   ]
  },
  {
   "cell_type": "code",
   "execution_count": 139,
   "id": "expanded-thermal",
   "metadata": {},
   "outputs": [
    {
     "data": {
      "text/plain": [
       "0.0    15336\n",
       "2.0     4192\n",
       "1.0     1342\n",
       "NaN      417\n",
       "Name: enrolled_university, dtype: int64"
      ]
     },
     "execution_count": 139,
     "metadata": {},
     "output_type": "execute_result"
    }
   ],
   "source": [
    "X['enrolled_university'].value_counts(dropna=False)"
   ]
  },
  {
   "cell_type": "code",
   "execution_count": 140,
   "id": "waiting-justice",
   "metadata": {},
   "outputs": [
    {
     "name": "stdout",
     "output_type": "stream",
     "text": [
      "<class 'pandas.core.frame.DataFrame'>\n",
      "Int64Index: 21287 entries, 0 to 2128\n",
      "Data columns (total 14 columns):\n",
      " #   Column                  Non-Null Count  Dtype  \n",
      "---  ------                  --------------  -----  \n",
      " 0   enrollee_id             21287 non-null  int64  \n",
      " 1   city                    21287 non-null  object \n",
      " 2   city_development_index  21287 non-null  float64\n",
      " 3   gender                  16271 non-null  object \n",
      " 4   relevent_experience     21287 non-null  object \n",
      " 5   enrolled_university     20870 non-null  object \n",
      " 6   education_level         20775 non-null  object \n",
      " 7   major_discipline        18162 non-null  object \n",
      " 8   experience              21217 non-null  float64\n",
      " 9   company_size            14727 non-null  object \n",
      " 10  company_type            14513 non-null  object \n",
      " 11  last_new_job            20824 non-null  float64\n",
      " 12  training_hours          21287 non-null  int64  \n",
      " 13  target                  21287 non-null  float64\n",
      "dtypes: float64(4), int64(2), object(8)\n",
      "memory usage: 2.4+ MB\n"
     ]
    }
   ],
   "source": [
    "X.info()"
   ]
  },
  {
   "cell_type": "code",
   "execution_count": 141,
   "id": "comparative-lobby",
   "metadata": {},
   "outputs": [
    {
     "data": {
      "text/plain": [
       "company_type              6774\n",
       "company_size              6560\n",
       "gender                    5016\n",
       "major_discipline          3125\n",
       "education_level            512\n",
       "last_new_job               463\n",
       "enrolled_university        417\n",
       "experience                  70\n",
       "enrollee_id                  0\n",
       "city                         0\n",
       "city_development_index       0\n",
       "relevent_experience          0\n",
       "training_hours               0\n",
       "target                       0\n",
       "dtype: int64"
      ]
     },
     "execution_count": 141,
     "metadata": {},
     "output_type": "execute_result"
    }
   ],
   "source": [
    "X.isna().sum().sort_values(ascending=False)"
   ]
  },
  {
   "cell_type": "markdown",
   "id": "warming-iceland",
   "metadata": {},
   "source": [
    "#### 결측치 3% 이하 컬럼의 결측치는 KNN으로 처리"
   ]
  },
  {
   "cell_type": "code",
   "execution_count": 142,
   "id": "portable-disney",
   "metadata": {},
   "outputs": [],
   "source": [
    "to_mode = ['education_level', 'enrolled_university',\n",
    "           'experience', 'last_new_job']"
   ]
  },
  {
   "cell_type": "code",
   "execution_count": 143,
   "id": "answering-fleece",
   "metadata": {},
   "outputs": [
    {
     "data": {
      "text/plain": [
       "['enrolled_university', 'education_level', 'experience', 'last_new_job']"
      ]
     },
     "execution_count": 143,
     "metadata": {},
     "output_type": "execute_result"
    }
   ],
   "source": [
    "limit = X.shape[0] * 0.03\n",
    "under_list = []\n",
    "for col in X.columns:\n",
    "    if 1 < X[col].isna().sum() < limit:\n",
    "        under_list.append(col)\n",
    "under_list"
   ]
  },
  {
   "cell_type": "code",
   "execution_count": 144,
   "id": "bigger-thought",
   "metadata": {},
   "outputs": [],
   "source": [
    "from sklearn.impute import KNNImputer\n",
    "\n",
    "imputer = KNNImputer(n_neighbors = 1)\n",
    "X[under_list] = imputer.fit_transform(X[under_list])"
   ]
  },
  {
   "cell_type": "code",
   "execution_count": 145,
   "id": "alternate-nowhere",
   "metadata": {},
   "outputs": [],
   "source": [
    "# 최빈값으로 결측치 처리\n",
    "# for col in to_mode:\n",
    "#     X.loc[X[col].isna(),col] = X[col].mode().values[0]   "
   ]
  },
  {
   "cell_type": "markdown",
   "id": "improved-arcade",
   "metadata": {},
   "source": [
    "#### gender: nan->위에서부터 반: Male / 나머지 반: Female"
   ]
  },
  {
   "cell_type": "code",
   "execution_count": 146,
   "id": "likely-bristol",
   "metadata": {},
   "outputs": [],
   "source": [
    "gender_nan_cnt = X['gender'].isna().sum()//2\n",
    "# 내 방법\n",
    "# idx = 0\n",
    "# for idx in range(X.shape[0]):\n",
    "#     if gender_nan_cnt <= 0:\n",
    "#         break\n",
    "#     if X.loc[idx,'gender'] == np.nan:\n",
    "#         X.loc[idx,'gender'] = 'Male'\n",
    "#         gender_nan_cnt -= 1\n",
    "# X.loc[X['gender'].isna(), 'gender'] = 'Female'\n",
    "\n",
    "# 우상님 방법\n",
    "X['gender'].fillna('Female', limit=gender_nan_cnt, inplace=True)\n",
    "X['gender'].fillna('Male', inplace=True)"
   ]
  },
  {
   "cell_type": "markdown",
   "id": "alert-switch",
   "metadata": {},
   "source": [
    "#### company_size, type"
   ]
  },
  {
   "cell_type": "code",
   "execution_count": 147,
   "id": "medical-rider",
   "metadata": {},
   "outputs": [],
   "source": [
    "X.loc[X['company_size'].isna(), 'company_size'] = 'unknown'\n",
    "X.loc[X['company_size']=='<10', 'company_size'] = '~10'\n",
    "X.loc[X['company_type'].isna(), 'company_type'] = 'unknown'"
   ]
  },
  {
   "cell_type": "markdown",
   "id": "imposed-attack",
   "metadata": {},
   "source": [
    "#### major: 비율 맞춰 major nomajor로 나눠 결측치 처리x\n",
    "#### -> 최빈값과 나머지의 합과의 비율 차이가 크므로 최빈값 major로 처리"
   ]
  },
  {
   "cell_type": "code",
   "execution_count": 148,
   "id": "eight-lesbian",
   "metadata": {},
   "outputs": [],
   "source": [
    "# # 비율맞춰 처리\n",
    "# stem = X['major_discipline'].value_counts(dropna=False)['STEM']\n",
    "# nonstem = X.shape[0] - X['major_discipline'].isna().sum() - stem\n",
    "# stem, nonstem"
   ]
  },
  {
   "cell_type": "code",
   "execution_count": 149,
   "id": "packed-blade",
   "metadata": {},
   "outputs": [],
   "source": [
    "# non_major_list = []\n",
    "# for val in X['major_discipline'].unique():\n",
    "#     if val != 'STEM':\n",
    "#         non_major_list.append(val)\n",
    "        \n",
    "# non_major = X['major_discipline'].isin(non_major_list)\n",
    "# major = X['major_discipline'] == 'STEM'\n",
    "\n",
    "# X.loc[non_major, 'major_discipline'] = 'non_major'\n",
    "# X.loc[major, 'major_discipline'] = 'major'"
   ]
  },
  {
   "cell_type": "code",
   "execution_count": 150,
   "id": "discrete-birth",
   "metadata": {},
   "outputs": [
    {
     "name": "stdout",
     "output_type": "stream",
     "text": [
      "['Humanities', 'Other', 'Business Degree', 'Arts', 'No Major']\n"
     ]
    }
   ],
   "source": [
    "nomajor_lst = list(X['major_discipline'].value_counts(dropna=False).index)\n",
    "nomajor_lst.remove(np.nan)\n",
    "nomajor_lst.remove('STEM')\n",
    "print(nomajor_lst)"
   ]
  },
  {
   "cell_type": "code",
   "execution_count": 151,
   "id": "statistical-cleaners",
   "metadata": {},
   "outputs": [],
   "source": [
    "# X.loc[X['major_discipline'] == 'STEM', 'major_discipline'] = 'major'\n",
    "# X.loc[X['major_discipline'].isin(nomajor_lst), 'major_discipline'] = 'no_major'"
   ]
  },
  {
   "cell_type": "code",
   "execution_count": 152,
   "id": "weighted-wells",
   "metadata": {},
   "outputs": [],
   "source": [
    "# major_limit = int(X['major_discipline'].isna().sum() / (stem+nonstem) * stem)\n",
    "# X['major_discipline'].fillna('major', limit=major_limit, inplace=True)\n",
    "# X['major_discipline'].fillna('no_major', inplace=True)"
   ]
  },
  {
   "cell_type": "code",
   "execution_count": 153,
   "id": "coupled-adrian",
   "metadata": {},
   "outputs": [],
   "source": [
    "X.loc[(X['major_discipline'] == 'STEM')|(X['major_discipline'].isna()) , 'major_discipline'] = 'major'\n",
    "X.loc[X['major_discipline'] != 'major', 'major_discipline'] = 'no_major'"
   ]
  },
  {
   "cell_type": "code",
   "execution_count": 154,
   "id": "conceptual-local",
   "metadata": {},
   "outputs": [
    {
     "data": {
      "text/plain": [
       "major       19238\n",
       "no_major     2049\n",
       "Name: major_discipline, dtype: int64"
      ]
     },
     "execution_count": 154,
     "metadata": {},
     "output_type": "execute_result"
    }
   ],
   "source": [
    "X['major_discipline'].value_counts()"
   ]
  },
  {
   "cell_type": "code",
   "execution_count": 155,
   "id": "liberal-tradition",
   "metadata": {
    "scrolled": true
   },
   "outputs": [
    {
     "name": "stdout",
     "output_type": "stream",
     "text": [
      "<class 'pandas.core.frame.DataFrame'>\n",
      "Int64Index: 21287 entries, 0 to 2128\n",
      "Data columns (total 14 columns):\n",
      " #   Column                  Non-Null Count  Dtype  \n",
      "---  ------                  --------------  -----  \n",
      " 0   enrollee_id             21287 non-null  int64  \n",
      " 1   city                    21287 non-null  object \n",
      " 2   city_development_index  21287 non-null  float64\n",
      " 3   gender                  21287 non-null  object \n",
      " 4   relevent_experience     21287 non-null  object \n",
      " 5   enrolled_university     21287 non-null  float64\n",
      " 6   education_level         21287 non-null  float64\n",
      " 7   major_discipline        21287 non-null  object \n",
      " 8   experience              21287 non-null  float64\n",
      " 9   company_size            21287 non-null  object \n",
      " 10  company_type            21287 non-null  object \n",
      " 11  last_new_job            21287 non-null  float64\n",
      " 12  training_hours          21287 non-null  int64  \n",
      " 13  target                  21287 non-null  float64\n",
      "dtypes: float64(6), int64(2), object(6)\n",
      "memory usage: 2.4+ MB\n"
     ]
    }
   ],
   "source": [
    "X.info()"
   ]
  },
  {
   "cell_type": "markdown",
   "id": "approximate-spirituality",
   "metadata": {},
   "source": [
    "### 인코딩 전 현재 위아래로 concat되있어 \n",
    "### 중복되있으므로 인덱스 순번대로 재지정"
   ]
  },
  {
   "cell_type": "code",
   "execution_count": 156,
   "id": "tracked-camera",
   "metadata": {},
   "outputs": [],
   "source": [
    "X.reset_index(drop=True, inplace=True)"
   ]
  },
  {
   "cell_type": "markdown",
   "id": "scientific-family",
   "metadata": {},
   "source": [
    "#### 라벨 인코딩"
   ]
  },
  {
   "cell_type": "code",
   "execution_count": 157,
   "id": "excellent-mississippi",
   "metadata": {},
   "outputs": [],
   "source": [
    "X['city'] = LabelEncoder().fit_transform(X['city'])"
   ]
  },
  {
   "cell_type": "markdown",
   "id": "legitimate-associate",
   "metadata": {},
   "source": [
    "#### 원핫인코딩"
   ]
  },
  {
   "cell_type": "code",
   "execution_count": 158,
   "id": "alternative-sixth",
   "metadata": {},
   "outputs": [
    {
     "data": {
      "text/plain": [
       "array(['unknown', '50-99', '~10', '10000+', '5000-9999', '1000-4999',\n",
       "       '10/49', '100-500', '500-999'], dtype=object)"
      ]
     },
     "execution_count": 158,
     "metadata": {},
     "output_type": "execute_result"
    }
   ],
   "source": [
    "X['company_size'].unique()"
   ]
  },
  {
   "cell_type": "code",
   "execution_count": 159,
   "id": "spatial-spoke",
   "metadata": {},
   "outputs": [
    {
     "data": {
      "text/plain": [
       "['gender',\n",
       " 'relevent_experience',\n",
       " 'major_discipline',\n",
       " 'company_size',\n",
       " 'company_type']"
      ]
     },
     "execution_count": 159,
     "metadata": {},
     "output_type": "execute_result"
    }
   ],
   "source": [
    "to_ohe = list(X.columns[X[X.columns].dtypes == 'object'])\n",
    "to_ohe"
   ]
  },
  {
   "cell_type": "code",
   "execution_count": 160,
   "id": "satisfactory-following",
   "metadata": {},
   "outputs": [
    {
     "data": {
      "text/plain": [
       "((21287, 9),\n",
       " Index(['enrollee_id', 'city', 'city_development_index', 'enrolled_university',\n",
       "        'education_level', 'experience', 'last_new_job', 'training_hours',\n",
       "        'target'],\n",
       "       dtype='object'))"
      ]
     },
     "execution_count": 160,
     "metadata": {},
     "output_type": "execute_result"
    }
   ],
   "source": [
    "# 원핫 인코딩x 컬럼들\n",
    "X_not_ohe = X.loc[:,~X.columns.isin(to_ohe)]\n",
    "X_not_ohe.shape, X_not_ohe.columns"
   ]
  },
  {
   "cell_type": "code",
   "execution_count": 161,
   "id": "minus-crack",
   "metadata": {},
   "outputs": [
    {
     "data": {
      "text/html": [
       "<div>\n",
       "<style scoped>\n",
       "    .dataframe tbody tr th:only-of-type {\n",
       "        vertical-align: middle;\n",
       "    }\n",
       "\n",
       "    .dataframe tbody tr th {\n",
       "        vertical-align: top;\n",
       "    }\n",
       "\n",
       "    .dataframe thead th {\n",
       "        text-align: right;\n",
       "    }\n",
       "</style>\n",
       "<table border=\"1\" class=\"dataframe\">\n",
       "  <thead>\n",
       "    <tr style=\"text-align: right;\">\n",
       "      <th></th>\n",
       "      <th>gender</th>\n",
       "      <th>relevent_experience</th>\n",
       "      <th>major_discipline</th>\n",
       "      <th>company_size</th>\n",
       "      <th>company_type</th>\n",
       "    </tr>\n",
       "  </thead>\n",
       "  <tbody>\n",
       "    <tr>\n",
       "      <th>0</th>\n",
       "      <td>Male</td>\n",
       "      <td>Has relevent experience</td>\n",
       "      <td>major</td>\n",
       "      <td>unknown</td>\n",
       "      <td>unknown</td>\n",
       "    </tr>\n",
       "    <tr>\n",
       "      <th>1</th>\n",
       "      <td>Male</td>\n",
       "      <td>No relevent experience</td>\n",
       "      <td>major</td>\n",
       "      <td>50-99</td>\n",
       "      <td>Pvt Ltd</td>\n",
       "    </tr>\n",
       "    <tr>\n",
       "      <th>2</th>\n",
       "      <td>Female</td>\n",
       "      <td>No relevent experience</td>\n",
       "      <td>major</td>\n",
       "      <td>unknown</td>\n",
       "      <td>unknown</td>\n",
       "    </tr>\n",
       "    <tr>\n",
       "      <th>3</th>\n",
       "      <td>Female</td>\n",
       "      <td>No relevent experience</td>\n",
       "      <td>no_major</td>\n",
       "      <td>unknown</td>\n",
       "      <td>Pvt Ltd</td>\n",
       "    </tr>\n",
       "    <tr>\n",
       "      <th>4</th>\n",
       "      <td>Male</td>\n",
       "      <td>Has relevent experience</td>\n",
       "      <td>major</td>\n",
       "      <td>50-99</td>\n",
       "      <td>Funded Startup</td>\n",
       "    </tr>\n",
       "    <tr>\n",
       "      <th>...</th>\n",
       "      <td>...</td>\n",
       "      <td>...</td>\n",
       "      <td>...</td>\n",
       "      <td>...</td>\n",
       "      <td>...</td>\n",
       "    </tr>\n",
       "    <tr>\n",
       "      <th>21282</th>\n",
       "      <td>Male</td>\n",
       "      <td>No relevent experience</td>\n",
       "      <td>no_major</td>\n",
       "      <td>unknown</td>\n",
       "      <td>Public Sector</td>\n",
       "    </tr>\n",
       "    <tr>\n",
       "      <th>21283</th>\n",
       "      <td>Male</td>\n",
       "      <td>Has relevent experience</td>\n",
       "      <td>major</td>\n",
       "      <td>unknown</td>\n",
       "      <td>unknown</td>\n",
       "    </tr>\n",
       "    <tr>\n",
       "      <th>21284</th>\n",
       "      <td>Male</td>\n",
       "      <td>No relevent experience</td>\n",
       "      <td>major</td>\n",
       "      <td>unknown</td>\n",
       "      <td>Pvt Ltd</td>\n",
       "    </tr>\n",
       "    <tr>\n",
       "      <th>21285</th>\n",
       "      <td>Male</td>\n",
       "      <td>Has relevent experience</td>\n",
       "      <td>major</td>\n",
       "      <td>100-500</td>\n",
       "      <td>Public Sector</td>\n",
       "    </tr>\n",
       "    <tr>\n",
       "      <th>21286</th>\n",
       "      <td>Male</td>\n",
       "      <td>Has relevent experience</td>\n",
       "      <td>major</td>\n",
       "      <td>10000+</td>\n",
       "      <td>Pvt Ltd</td>\n",
       "    </tr>\n",
       "  </tbody>\n",
       "</table>\n",
       "<p>21287 rows × 5 columns</p>\n",
       "</div>"
      ],
      "text/plain": [
       "       gender      relevent_experience major_discipline company_size  \\\n",
       "0        Male  Has relevent experience            major      unknown   \n",
       "1        Male   No relevent experience            major        50-99   \n",
       "2      Female   No relevent experience            major      unknown   \n",
       "3      Female   No relevent experience         no_major      unknown   \n",
       "4        Male  Has relevent experience            major        50-99   \n",
       "...       ...                      ...              ...          ...   \n",
       "21282    Male   No relevent experience         no_major      unknown   \n",
       "21283    Male  Has relevent experience            major      unknown   \n",
       "21284    Male   No relevent experience            major      unknown   \n",
       "21285    Male  Has relevent experience            major      100-500   \n",
       "21286    Male  Has relevent experience            major       10000+   \n",
       "\n",
       "         company_type  \n",
       "0             unknown  \n",
       "1             Pvt Ltd  \n",
       "2             unknown  \n",
       "3             Pvt Ltd  \n",
       "4      Funded Startup  \n",
       "...               ...  \n",
       "21282   Public Sector  \n",
       "21283         unknown  \n",
       "21284         Pvt Ltd  \n",
       "21285   Public Sector  \n",
       "21286         Pvt Ltd  \n",
       "\n",
       "[21287 rows x 5 columns]"
      ]
     },
     "execution_count": 161,
     "metadata": {},
     "output_type": "execute_result"
    }
   ],
   "source": [
    "# 원핫 인코딩 컬럼들\n",
    "X_ohe = X[to_ohe]\n",
    "X_ohe"
   ]
  },
  {
   "cell_type": "code",
   "execution_count": 162,
   "id": "dedicated-military",
   "metadata": {},
   "outputs": [
    {
     "data": {
      "text/plain": [
       "((21287, 23),\n",
       " Index(['x0_Female', 'x0_Male', 'x0_Other', 'x1_Has relevent experience',\n",
       "        'x1_No relevent experience', 'x2_major', 'x2_no_major', 'x3_10/49',\n",
       "        'x3_100-500', 'x3_1000-4999', 'x3_10000+', 'x3_50-99', 'x3_500-999',\n",
       "        'x3_5000-9999', 'x3_unknown', 'x3_~10', 'x4_Early Stage Startup',\n",
       "        'x4_Funded Startup', 'x4_NGO', 'x4_Other', 'x4_Public Sector',\n",
       "        'x4_Pvt Ltd', 'x4_unknown'],\n",
       "       dtype='object'))"
      ]
     },
     "execution_count": 162,
     "metadata": {},
     "output_type": "execute_result"
    }
   ],
   "source": [
    "# 원핫인코딩 실행\n",
    "ohe = OneHotEncoder(sparse=False)\n",
    "X_df = ohe.fit_transform(X_ohe)\n",
    "X_ohe = pd.DataFrame(X_df, columns=ohe.get_feature_names())\n",
    "X_ohe.shape, X_ohe.columns"
   ]
  },
  {
   "cell_type": "code",
   "execution_count": 163,
   "id": "burning-sussex",
   "metadata": {},
   "outputs": [
    {
     "data": {
      "text/html": [
       "<div>\n",
       "<style scoped>\n",
       "    .dataframe tbody tr th:only-of-type {\n",
       "        vertical-align: middle;\n",
       "    }\n",
       "\n",
       "    .dataframe tbody tr th {\n",
       "        vertical-align: top;\n",
       "    }\n",
       "\n",
       "    .dataframe thead th {\n",
       "        text-align: right;\n",
       "    }\n",
       "</style>\n",
       "<table border=\"1\" class=\"dataframe\">\n",
       "  <thead>\n",
       "    <tr style=\"text-align: right;\">\n",
       "      <th></th>\n",
       "      <th>x0_Female</th>\n",
       "      <th>x0_Male</th>\n",
       "      <th>x0_Other</th>\n",
       "      <th>x1_Has relevent experience</th>\n",
       "      <th>x1_No relevent experience</th>\n",
       "      <th>x2_major</th>\n",
       "      <th>x2_no_major</th>\n",
       "      <th>x3_10/49</th>\n",
       "      <th>x3_100-500</th>\n",
       "      <th>x3_1000-4999</th>\n",
       "      <th>...</th>\n",
       "      <th>x4_unknown</th>\n",
       "      <th>enrollee_id</th>\n",
       "      <th>city</th>\n",
       "      <th>city_development_index</th>\n",
       "      <th>enrolled_university</th>\n",
       "      <th>education_level</th>\n",
       "      <th>experience</th>\n",
       "      <th>last_new_job</th>\n",
       "      <th>training_hours</th>\n",
       "      <th>target</th>\n",
       "    </tr>\n",
       "  </thead>\n",
       "  <tbody>\n",
       "    <tr>\n",
       "      <th>0</th>\n",
       "      <td>0.0</td>\n",
       "      <td>1.0</td>\n",
       "      <td>0.0</td>\n",
       "      <td>1.0</td>\n",
       "      <td>0.0</td>\n",
       "      <td>1.0</td>\n",
       "      <td>0.0</td>\n",
       "      <td>0.0</td>\n",
       "      <td>0.0</td>\n",
       "      <td>0.0</td>\n",
       "      <td>...</td>\n",
       "      <td>1.0</td>\n",
       "      <td>8949</td>\n",
       "      <td>5</td>\n",
       "      <td>0.920</td>\n",
       "      <td>0.0</td>\n",
       "      <td>2.0</td>\n",
       "      <td>21.0</td>\n",
       "      <td>1.0</td>\n",
       "      <td>36</td>\n",
       "      <td>1.0</td>\n",
       "    </tr>\n",
       "    <tr>\n",
       "      <th>1</th>\n",
       "      <td>0.0</td>\n",
       "      <td>1.0</td>\n",
       "      <td>0.0</td>\n",
       "      <td>0.0</td>\n",
       "      <td>1.0</td>\n",
       "      <td>1.0</td>\n",
       "      <td>0.0</td>\n",
       "      <td>0.0</td>\n",
       "      <td>0.0</td>\n",
       "      <td>0.0</td>\n",
       "      <td>...</td>\n",
       "      <td>0.0</td>\n",
       "      <td>29725</td>\n",
       "      <td>77</td>\n",
       "      <td>0.776</td>\n",
       "      <td>0.0</td>\n",
       "      <td>2.0</td>\n",
       "      <td>15.0</td>\n",
       "      <td>5.0</td>\n",
       "      <td>47</td>\n",
       "      <td>0.0</td>\n",
       "    </tr>\n",
       "    <tr>\n",
       "      <th>2</th>\n",
       "      <td>1.0</td>\n",
       "      <td>0.0</td>\n",
       "      <td>0.0</td>\n",
       "      <td>0.0</td>\n",
       "      <td>1.0</td>\n",
       "      <td>1.0</td>\n",
       "      <td>0.0</td>\n",
       "      <td>0.0</td>\n",
       "      <td>0.0</td>\n",
       "      <td>0.0</td>\n",
       "      <td>...</td>\n",
       "      <td>1.0</td>\n",
       "      <td>11561</td>\n",
       "      <td>64</td>\n",
       "      <td>0.624</td>\n",
       "      <td>2.0</td>\n",
       "      <td>2.0</td>\n",
       "      <td>5.0</td>\n",
       "      <td>0.0</td>\n",
       "      <td>83</td>\n",
       "      <td>0.0</td>\n",
       "    </tr>\n",
       "    <tr>\n",
       "      <th>3</th>\n",
       "      <td>1.0</td>\n",
       "      <td>0.0</td>\n",
       "      <td>0.0</td>\n",
       "      <td>0.0</td>\n",
       "      <td>1.0</td>\n",
       "      <td>0.0</td>\n",
       "      <td>1.0</td>\n",
       "      <td>0.0</td>\n",
       "      <td>0.0</td>\n",
       "      <td>0.0</td>\n",
       "      <td>...</td>\n",
       "      <td>0.0</td>\n",
       "      <td>33241</td>\n",
       "      <td>14</td>\n",
       "      <td>0.789</td>\n",
       "      <td>2.0</td>\n",
       "      <td>2.0</td>\n",
       "      <td>0.0</td>\n",
       "      <td>0.0</td>\n",
       "      <td>52</td>\n",
       "      <td>1.0</td>\n",
       "    </tr>\n",
       "    <tr>\n",
       "      <th>4</th>\n",
       "      <td>0.0</td>\n",
       "      <td>1.0</td>\n",
       "      <td>0.0</td>\n",
       "      <td>1.0</td>\n",
       "      <td>0.0</td>\n",
       "      <td>1.0</td>\n",
       "      <td>0.0</td>\n",
       "      <td>0.0</td>\n",
       "      <td>0.0</td>\n",
       "      <td>0.0</td>\n",
       "      <td>...</td>\n",
       "      <td>0.0</td>\n",
       "      <td>666</td>\n",
       "      <td>50</td>\n",
       "      <td>0.767</td>\n",
       "      <td>0.0</td>\n",
       "      <td>3.0</td>\n",
       "      <td>21.0</td>\n",
       "      <td>4.0</td>\n",
       "      <td>8</td>\n",
       "      <td>0.0</td>\n",
       "    </tr>\n",
       "    <tr>\n",
       "      <th>...</th>\n",
       "      <td>...</td>\n",
       "      <td>...</td>\n",
       "      <td>...</td>\n",
       "      <td>...</td>\n",
       "      <td>...</td>\n",
       "      <td>...</td>\n",
       "      <td>...</td>\n",
       "      <td>...</td>\n",
       "      <td>...</td>\n",
       "      <td>...</td>\n",
       "      <td>...</td>\n",
       "      <td>...</td>\n",
       "      <td>...</td>\n",
       "      <td>...</td>\n",
       "      <td>...</td>\n",
       "      <td>...</td>\n",
       "      <td>...</td>\n",
       "      <td>...</td>\n",
       "      <td>...</td>\n",
       "      <td>...</td>\n",
       "      <td>...</td>\n",
       "    </tr>\n",
       "    <tr>\n",
       "      <th>21282</th>\n",
       "      <td>0.0</td>\n",
       "      <td>1.0</td>\n",
       "      <td>0.0</td>\n",
       "      <td>0.0</td>\n",
       "      <td>1.0</td>\n",
       "      <td>0.0</td>\n",
       "      <td>1.0</td>\n",
       "      <td>0.0</td>\n",
       "      <td>0.0</td>\n",
       "      <td>0.0</td>\n",
       "      <td>...</td>\n",
       "      <td>0.0</td>\n",
       "      <td>1289</td>\n",
       "      <td>5</td>\n",
       "      <td>0.920</td>\n",
       "      <td>0.0</td>\n",
       "      <td>2.0</td>\n",
       "      <td>16.0</td>\n",
       "      <td>4.0</td>\n",
       "      <td>15</td>\n",
       "      <td>-1.0</td>\n",
       "    </tr>\n",
       "    <tr>\n",
       "      <th>21283</th>\n",
       "      <td>0.0</td>\n",
       "      <td>1.0</td>\n",
       "      <td>0.0</td>\n",
       "      <td>1.0</td>\n",
       "      <td>0.0</td>\n",
       "      <td>1.0</td>\n",
       "      <td>0.0</td>\n",
       "      <td>0.0</td>\n",
       "      <td>0.0</td>\n",
       "      <td>0.0</td>\n",
       "      <td>...</td>\n",
       "      <td>1.0</td>\n",
       "      <td>195</td>\n",
       "      <td>30</td>\n",
       "      <td>0.897</td>\n",
       "      <td>0.0</td>\n",
       "      <td>3.0</td>\n",
       "      <td>18.0</td>\n",
       "      <td>2.0</td>\n",
       "      <td>30</td>\n",
       "      <td>-1.0</td>\n",
       "    </tr>\n",
       "    <tr>\n",
       "      <th>21284</th>\n",
       "      <td>0.0</td>\n",
       "      <td>1.0</td>\n",
       "      <td>0.0</td>\n",
       "      <td>0.0</td>\n",
       "      <td>1.0</td>\n",
       "      <td>1.0</td>\n",
       "      <td>0.0</td>\n",
       "      <td>0.0</td>\n",
       "      <td>0.0</td>\n",
       "      <td>0.0</td>\n",
       "      <td>...</td>\n",
       "      <td>0.0</td>\n",
       "      <td>31762</td>\n",
       "      <td>2</td>\n",
       "      <td>0.887</td>\n",
       "      <td>0.0</td>\n",
       "      <td>0.0</td>\n",
       "      <td>3.0</td>\n",
       "      <td>0.0</td>\n",
       "      <td>18</td>\n",
       "      <td>-1.0</td>\n",
       "    </tr>\n",
       "    <tr>\n",
       "      <th>21285</th>\n",
       "      <td>0.0</td>\n",
       "      <td>1.0</td>\n",
       "      <td>0.0</td>\n",
       "      <td>1.0</td>\n",
       "      <td>0.0</td>\n",
       "      <td>1.0</td>\n",
       "      <td>0.0</td>\n",
       "      <td>0.0</td>\n",
       "      <td>1.0</td>\n",
       "      <td>0.0</td>\n",
       "      <td>...</td>\n",
       "      <td>0.0</td>\n",
       "      <td>7873</td>\n",
       "      <td>4</td>\n",
       "      <td>0.804</td>\n",
       "      <td>2.0</td>\n",
       "      <td>1.0</td>\n",
       "      <td>7.0</td>\n",
       "      <td>1.0</td>\n",
       "      <td>84</td>\n",
       "      <td>-1.0</td>\n",
       "    </tr>\n",
       "    <tr>\n",
       "      <th>21286</th>\n",
       "      <td>0.0</td>\n",
       "      <td>1.0</td>\n",
       "      <td>0.0</td>\n",
       "      <td>1.0</td>\n",
       "      <td>0.0</td>\n",
       "      <td>1.0</td>\n",
       "      <td>0.0</td>\n",
       "      <td>0.0</td>\n",
       "      <td>0.0</td>\n",
       "      <td>0.0</td>\n",
       "      <td>...</td>\n",
       "      <td>0.0</td>\n",
       "      <td>12215</td>\n",
       "      <td>4</td>\n",
       "      <td>0.804</td>\n",
       "      <td>0.0</td>\n",
       "      <td>3.0</td>\n",
       "      <td>15.0</td>\n",
       "      <td>2.0</td>\n",
       "      <td>11</td>\n",
       "      <td>-1.0</td>\n",
       "    </tr>\n",
       "  </tbody>\n",
       "</table>\n",
       "<p>21287 rows × 32 columns</p>\n",
       "</div>"
      ],
      "text/plain": [
       "       x0_Female  x0_Male  x0_Other  x1_Has relevent experience  \\\n",
       "0            0.0      1.0       0.0                         1.0   \n",
       "1            0.0      1.0       0.0                         0.0   \n",
       "2            1.0      0.0       0.0                         0.0   \n",
       "3            1.0      0.0       0.0                         0.0   \n",
       "4            0.0      1.0       0.0                         1.0   \n",
       "...          ...      ...       ...                         ...   \n",
       "21282        0.0      1.0       0.0                         0.0   \n",
       "21283        0.0      1.0       0.0                         1.0   \n",
       "21284        0.0      1.0       0.0                         0.0   \n",
       "21285        0.0      1.0       0.0                         1.0   \n",
       "21286        0.0      1.0       0.0                         1.0   \n",
       "\n",
       "       x1_No relevent experience  x2_major  x2_no_major  x3_10/49  x3_100-500  \\\n",
       "0                            0.0       1.0          0.0       0.0         0.0   \n",
       "1                            1.0       1.0          0.0       0.0         0.0   \n",
       "2                            1.0       1.0          0.0       0.0         0.0   \n",
       "3                            1.0       0.0          1.0       0.0         0.0   \n",
       "4                            0.0       1.0          0.0       0.0         0.0   \n",
       "...                          ...       ...          ...       ...         ...   \n",
       "21282                        1.0       0.0          1.0       0.0         0.0   \n",
       "21283                        0.0       1.0          0.0       0.0         0.0   \n",
       "21284                        1.0       1.0          0.0       0.0         0.0   \n",
       "21285                        0.0       1.0          0.0       0.0         1.0   \n",
       "21286                        0.0       1.0          0.0       0.0         0.0   \n",
       "\n",
       "       x3_1000-4999  ...  x4_unknown  enrollee_id  city  \\\n",
       "0               0.0  ...         1.0         8949     5   \n",
       "1               0.0  ...         0.0        29725    77   \n",
       "2               0.0  ...         1.0        11561    64   \n",
       "3               0.0  ...         0.0        33241    14   \n",
       "4               0.0  ...         0.0          666    50   \n",
       "...             ...  ...         ...          ...   ...   \n",
       "21282           0.0  ...         0.0         1289     5   \n",
       "21283           0.0  ...         1.0          195    30   \n",
       "21284           0.0  ...         0.0        31762     2   \n",
       "21285           0.0  ...         0.0         7873     4   \n",
       "21286           0.0  ...         0.0        12215     4   \n",
       "\n",
       "       city_development_index  enrolled_university  education_level  \\\n",
       "0                       0.920                  0.0              2.0   \n",
       "1                       0.776                  0.0              2.0   \n",
       "2                       0.624                  2.0              2.0   \n",
       "3                       0.789                  2.0              2.0   \n",
       "4                       0.767                  0.0              3.0   \n",
       "...                       ...                  ...              ...   \n",
       "21282                   0.920                  0.0              2.0   \n",
       "21283                   0.897                  0.0              3.0   \n",
       "21284                   0.887                  0.0              0.0   \n",
       "21285                   0.804                  2.0              1.0   \n",
       "21286                   0.804                  0.0              3.0   \n",
       "\n",
       "       experience  last_new_job  training_hours  target  \n",
       "0            21.0           1.0              36     1.0  \n",
       "1            15.0           5.0              47     0.0  \n",
       "2             5.0           0.0              83     0.0  \n",
       "3             0.0           0.0              52     1.0  \n",
       "4            21.0           4.0               8     0.0  \n",
       "...           ...           ...             ...     ...  \n",
       "21282        16.0           4.0              15    -1.0  \n",
       "21283        18.0           2.0              30    -1.0  \n",
       "21284         3.0           0.0              18    -1.0  \n",
       "21285         7.0           1.0              84    -1.0  \n",
       "21286        15.0           2.0              11    -1.0  \n",
       "\n",
       "[21287 rows x 32 columns]"
      ]
     },
     "execution_count": 163,
     "metadata": {},
     "output_type": "execute_result"
    }
   ],
   "source": [
    "# 합치기\n",
    "X_new = pd.concat([X_ohe, X_not_ohe], axis=1)\n",
    "X_new"
   ]
  },
  {
   "cell_type": "code",
   "execution_count": 164,
   "id": "annoying-prophet",
   "metadata": {},
   "outputs": [
    {
     "name": "stdout",
     "output_type": "stream",
     "text": [
      "<class 'pandas.core.frame.DataFrame'>\n",
      "RangeIndex: 21287 entries, 0 to 21286\n",
      "Data columns (total 32 columns):\n",
      " #   Column                      Non-Null Count  Dtype  \n",
      "---  ------                      --------------  -----  \n",
      " 0   x0_Female                   21287 non-null  float64\n",
      " 1   x0_Male                     21287 non-null  float64\n",
      " 2   x0_Other                    21287 non-null  float64\n",
      " 3   x1_Has relevent experience  21287 non-null  float64\n",
      " 4   x1_No relevent experience   21287 non-null  float64\n",
      " 5   x2_major                    21287 non-null  float64\n",
      " 6   x2_no_major                 21287 non-null  float64\n",
      " 7   x3_10/49                    21287 non-null  float64\n",
      " 8   x3_100-500                  21287 non-null  float64\n",
      " 9   x3_1000-4999                21287 non-null  float64\n",
      " 10  x3_10000+                   21287 non-null  float64\n",
      " 11  x3_50-99                    21287 non-null  float64\n",
      " 12  x3_500-999                  21287 non-null  float64\n",
      " 13  x3_5000-9999                21287 non-null  float64\n",
      " 14  x3_unknown                  21287 non-null  float64\n",
      " 15  x3_~10                      21287 non-null  float64\n",
      " 16  x4_Early Stage Startup      21287 non-null  float64\n",
      " 17  x4_Funded Startup           21287 non-null  float64\n",
      " 18  x4_NGO                      21287 non-null  float64\n",
      " 19  x4_Other                    21287 non-null  float64\n",
      " 20  x4_Public Sector            21287 non-null  float64\n",
      " 21  x4_Pvt Ltd                  21287 non-null  float64\n",
      " 22  x4_unknown                  21287 non-null  float64\n",
      " 23  enrollee_id                 21287 non-null  int64  \n",
      " 24  city                        21287 non-null  int32  \n",
      " 25  city_development_index      21287 non-null  float64\n",
      " 26  enrolled_university         21287 non-null  float64\n",
      " 27  education_level             21287 non-null  float64\n",
      " 28  experience                  21287 non-null  float64\n",
      " 29  last_new_job                21287 non-null  float64\n",
      " 30  training_hours              21287 non-null  int64  \n",
      " 31  target                      21287 non-null  float64\n",
      "dtypes: float64(29), int32(1), int64(2)\n",
      "memory usage: 5.1 MB\n"
     ]
    }
   ],
   "source": [
    "X_new.info()"
   ]
  },
  {
   "cell_type": "markdown",
   "id": "contrary-mobile",
   "metadata": {},
   "source": [
    "### StandardScaled"
   ]
  },
  {
   "cell_type": "code",
   "execution_count": 200,
   "id": "phantom-sleep",
   "metadata": {},
   "outputs": [],
   "source": [
    "from sklearn.preprocessing import StandardScaler\n",
    "\n",
    "y_tmp = X_new['target']\n",
    "X_scaled = StandardScaler().fit_transform(X_new)\n",
    "X_scaled_df = pd.DataFrame(X_scaled, columns=X_new.columns)\n",
    "X_scaled_df.drop(columns='target',inplace=True)\n",
    "X_scaled_df = pd.concat([X_scaled_df, y_tmp], axis=1)"
   ]
  },
  {
   "cell_type": "markdown",
   "id": "immune-assist",
   "metadata": {},
   "source": [
    "#### enrollee_id 제거, 다시 train,test 분리 후 target 분리"
   ]
  },
  {
   "cell_type": "code",
   "execution_count": 201,
   "id": "metric-shepherd",
   "metadata": {},
   "outputs": [
    {
     "data": {
      "text/plain": [
       "0        1.0\n",
       "1        0.0\n",
       "2        0.0\n",
       "3        1.0\n",
       "4        0.0\n",
       "        ... \n",
       "21282   -1.0\n",
       "21283   -1.0\n",
       "21284   -1.0\n",
       "21285   -1.0\n",
       "21286   -1.0\n",
       "Name: target, Length: 21287, dtype: float64"
      ]
     },
     "execution_count": 201,
     "metadata": {},
     "output_type": "execute_result"
    }
   ],
   "source": [
    "X_scaled_df.loc[X_scaled_df.index,'target']"
   ]
  },
  {
   "cell_type": "code",
   "execution_count": 205,
   "id": "horizontal-jacksonville",
   "metadata": {},
   "outputs": [
    {
     "name": "stderr",
     "output_type": "stream",
     "text": [
      "c:\\users\\inje.jeong\\anaconda3\\envs\\ml\\lib\\site-packages\\pandas\\core\\frame.py:4315: SettingWithCopyWarning: \n",
      "A value is trying to be set on a copy of a slice from a DataFrame\n",
      "\n",
      "See the caveats in the documentation: https://pandas.pydata.org/pandas-docs/stable/user_guide/indexing.html#returning-a-view-versus-a-copy\n",
      "  errors=errors,\n"
     ]
    }
   ],
   "source": [
    "X_train = X_scaled_df.loc[X_scaled_df.loc[X_scaled_df.index, 'target'] != -1]\n",
    "X_test = X_scaled_df.loc[X_scaled_df.loc[X_scaled_df.index, 'target'] == -1]\n",
    "X_test.drop(columns='target',inplace=True)"
   ]
  },
  {
   "cell_type": "markdown",
   "id": "increasing-applicant",
   "metadata": {},
   "source": [
    "#### 테이블 저장"
   ]
  },
  {
   "cell_type": "code",
   "execution_count": 206,
   "id": "original-consultation",
   "metadata": {},
   "outputs": [],
   "source": [
    "X_train.to_csv('../data/prepcd_train.csv', index=False)\n",
    "X_test.to_csv('../data/prepcd_test.csv', index=False)"
   ]
  }
 ],
 "metadata": {
  "kernelspec": {
   "display_name": "Python 3",
   "language": "python",
   "name": "python3"
  },
  "language_info": {
   "codemirror_mode": {
    "name": "ipython",
    "version": 3
   },
   "file_extension": ".py",
   "mimetype": "text/x-python",
   "name": "python",
   "nbconvert_exporter": "python",
   "pygments_lexer": "ipython3",
   "version": "3.7.10"
  }
 },
 "nbformat": 4,
 "nbformat_minor": 5
}
