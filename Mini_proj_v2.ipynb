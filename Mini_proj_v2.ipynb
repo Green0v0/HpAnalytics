{
  "nbformat": 4,
  "nbformat_minor": 0,
  "metadata": {
    "colab": {
      "name": "Mini_proj_v2.ipynb",
      "private_outputs": true,
      "provenance": [],
      "collapsed_sections": [],
      "authorship_tag": "ABX9TyOkUKUELYi3OE05A7aatz1x",
      "include_colab_link": true
    },
    "kernelspec": {
      "name": "python3",
      "display_name": "Python 3"
    },
    "language_info": {
      "name": "python"
    },
    "accelerator": "GPU"
  },
  "cells": [
    {
      "cell_type": "markdown",
      "metadata": {
        "id": "view-in-github",
        "colab_type": "text"
      },
      "source": [
        "<a href=\"https://colab.research.google.com/github/Green0v0/HpAnalytics/blob/main/Mini_proj_v2.ipynb\" target=\"_parent\"><img src=\"https://colab.research.google.com/assets/colab-badge.svg\" alt=\"Open In Colab\"/></a>"
      ]
    },
    {
      "cell_type": "code",
      "metadata": {
        "id": "LyYV1CjJ3RcE"
      },
      "source": [
        "import numpy as np # linear algebra\n",
        "import pandas as pd # data processing, CSV file I/O (e.g. pd.read_csv)\n",
        "import matplotlib.pyplot as plt\n",
        "import seaborn as sns\n",
        "import missingno\n",
        "from sklearn.preprocessing import LabelEncoder, OneHotEncoder, StandardScaler\n",
        "from sklearn.impute import KNNImputer\n",
        "from sklearn.metrics import roc_auc_score, roc_curve, accuracy_score, confusion_matrix, log_loss, plot_roc_curve, auc, precision_recall_curve\n",
        "from sklearn.cluster import KMeans\n",
        "from sklearn.model_selection import StratifiedKFold \n",
        "from sklearn.svm import SVC\n",
        "from sklearn.linear_model import LogisticRegression\n",
        "from sklearn.gaussian_process import GaussianProcessClassifier\n",
        "from sklearn.ensemble import RandomForestClassifier\n",
        "from sklearn.model_selection import cross_val_score\n",
        "\n",
        "from sklearn.metrics import classification_report\n",
        "from sklearn.ensemble import GradientBoostingClassifier\n",
        "from sklearn.neighbors import KNeighborsClassifier\n",
        "from sklearn.ensemble import RandomForestClassifier\n",
        "from sklearn.svm import SVC\n",
        "from sklearn.ensemble import VotingClassifier\n",
        "from sklearn.tree import DecisionTreeClassifier\n",
        "%matplotlib inline\n",
        "from xgboost import XGBClassifier\n",
        "from functools import partial\n",
        "\n",
        "from sklearn.model_selection import train_test_split, GridSearchCV\n",
        "sns.set_style('whitegrid')\n",
        "\n",
        "import warnings\n",
        "warnings.filterwarnings('ignore')\n"
      ],
      "execution_count": null,
      "outputs": []
    },
    {
      "cell_type": "code",
      "metadata": {
        "id": "mRgKzWav3giC"
      },
      "source": [
        "from google.colab import drive\n",
        "drive.mount('/gdrive')"
      ],
      "execution_count": null,
      "outputs": []
    },
    {
      "cell_type": "code",
      "metadata": {
        "id": "q8ri0ecu3hsO"
      },
      "source": [
        "%cd /gdrive/My Drive/Colab Notebooks/dataset/input"
      ],
      "execution_count": null,
      "outputs": []
    },
    {
      "cell_type": "code",
      "metadata": {
        "id": "35B2vtPN32h5"
      },
      "source": [
        "train= pd.read_csv('aug_train.csv')\n",
        "test = pd.read_csv('aug_test.csv')\n",
        "target = np.load('jobchange_test_target_values.npy')"
      ],
      "execution_count": null,
      "outputs": []
    },
    {
      "cell_type": "code",
      "metadata": {
        "id": "YS83uiCT4_Ky"
      },
      "source": [
        "test['target'] = -1 #remeber that we have to drop this column later\n",
        "\n",
        "df_pre = pd.concat([train, test], axis = 0).reset_index(drop = True)"
      ],
      "execution_count": null,
      "outputs": []
    },
    {
      "cell_type": "code",
      "metadata": {
        "id": "RpeoBjcMJJrF"
      },
      "source": [
        "lb_en = LabelEncoder()\n",
        "\n",
        "df_pre['city'] = lb_en.fit_transform(df_pre.loc[:,'city']) "
      ],
      "execution_count": null,
      "outputs": []
    },
    {
      "cell_type": "code",
      "metadata": {
        "id": "gpF9ifw63hms"
      },
      "source": [
        "df_pre['education_level'].value_counts(dropna=False)"
      ],
      "execution_count": null,
      "outputs": []
    },
    {
      "cell_type": "code",
      "metadata": {
        "id": "YtqTyDYo3hjz"
      },
      "source": [
        "education_level = ['Primary School', 'High School', 'Graduate', 'Masters', 'Phd']\n",
        "for i, v in enumerate(education_level):\n",
        "    df_pre.loc[df_pre['education_level']==v, 'education_level'] = i"
      ],
      "execution_count": null,
      "outputs": []
    },
    {
      "cell_type": "code",
      "metadata": {
        "id": "o9CP5zmF3hhP"
      },
      "source": [
        "df_pre['education_level'].value_counts(dropna=False)"
      ],
      "execution_count": null,
      "outputs": []
    },
    {
      "cell_type": "code",
      "metadata": {
        "id": "ls19OkTJ3hc3"
      },
      "source": [
        "df_pre['last_new_job'].value_counts(dropna=False)"
      ],
      "execution_count": null,
      "outputs": []
    },
    {
      "cell_type": "code",
      "metadata": {
        "id": "Uu-kUX5-3hay"
      },
      "source": [
        "df_pre.loc[df_pre['last_new_job'] == '>4', 'last_new_job'] = 5\n",
        "df_pre.loc[df_pre['last_new_job'] == 'never', 'last_new_job'] = 0\n",
        "\n",
        "df_pre['last_new_job'] = pd.to_numeric(df_pre['last_new_job'], downcast='integer')"
      ],
      "execution_count": null,
      "outputs": []
    },
    {
      "cell_type": "code",
      "metadata": {
        "id": "JxBLT9YP3hYP"
      },
      "source": [
        "df_pre['last_new_job'].value_counts(dropna=False)"
      ],
      "execution_count": null,
      "outputs": []
    },
    {
      "cell_type": "code",
      "metadata": {
        "id": "2EQbR8hg3hUr"
      },
      "source": [
        "df_pre.loc[df_pre['experience'] == '>20', 'experience'] = 21\n",
        "df_pre.loc[df_pre['experience'] == '<1', 'experience'] = 0\n",
        "\n",
        "df_pre['experience'] = pd.to_numeric(df_pre['experience'], downcast='integer')"
      ],
      "execution_count": null,
      "outputs": []
    },
    {
      "cell_type": "code",
      "metadata": {
        "id": "icCh4E6r3hSa"
      },
      "source": [
        "df_pre['experience'].value_counts(dropna=False)"
      ],
      "execution_count": null,
      "outputs": []
    },
    {
      "cell_type": "code",
      "metadata": {
        "id": "RYCHr0nY3hQQ"
      },
      "source": [
        "df_pre['enrolled_university'].value_counts(dropna=False)"
      ],
      "execution_count": null,
      "outputs": []
    },
    {
      "cell_type": "code",
      "metadata": {
        "id": "6HC0baKS3hNr"
      },
      "source": [
        "df_pre.loc[df_pre['enrolled_university'] == 'Full time course', 'enrolled_university'] = 2\n",
        "df_pre.loc[df_pre['enrolled_university'] == 'Part time course', 'enrolled_university'] = 1\n",
        "df_pre.loc[df_pre['enrolled_university'] == 'no_enrollment', 'enrolled_university'] = 0"
      ],
      "execution_count": null,
      "outputs": []
    },
    {
      "cell_type": "code",
      "metadata": {
        "id": "rZ4Q236i3hLl"
      },
      "source": [
        "df_pre['enrolled_university'].value_counts(dropna=False)"
      ],
      "execution_count": null,
      "outputs": []
    },
    {
      "cell_type": "code",
      "metadata": {
        "id": "2n8D-nV-3hJV"
      },
      "source": [
        "df_pre.isna().sum()"
      ],
      "execution_count": null,
      "outputs": []
    },
    {
      "cell_type": "code",
      "metadata": {
        "id": "a6OFEkb06Our"
      },
      "source": [
        "gender_limit = df_pre['gender'].isna().sum()//2"
      ],
      "execution_count": null,
      "outputs": []
    },
    {
      "cell_type": "code",
      "metadata": {
        "id": "D4iPMu2w6Op6"
      },
      "source": [
        "df_pre['gender'].fillna('Female', limit=gender_limit, inplace=True)\n",
        "df_pre['gender'].fillna('Male', inplace=True)"
      ],
      "execution_count": null,
      "outputs": []
    },
    {
      "cell_type": "code",
      "metadata": {
        "id": "DZ8ptEKR3hHH"
      },
      "source": [
        "limit = df_pre.shape[0] * 0.03"
      ],
      "execution_count": null,
      "outputs": []
    },
    {
      "cell_type": "code",
      "metadata": {
        "id": "7Dl6Zxdq3hCw"
      },
      "source": [
        "under_list = []\n",
        "for col in df_pre.columns:\n",
        "    if 1 < df_pre[col].isna().sum() < limit:\n",
        "        under_list.append(col)\n",
        "under_list"
      ],
      "execution_count": null,
      "outputs": []
    },
    {
      "cell_type": "code",
      "metadata": {
        "id": "W-pld7bk5RuN"
      },
      "source": [
        "from sklearn.impute import KNNImputer\n",
        "\n",
        "imputer = KNNImputer(n_neighbors = 1)\n",
        "df_pre[under_list] = imputer.fit_transform(df_pre[under_list])"
      ],
      "execution_count": null,
      "outputs": []
    },
    {
      "cell_type": "code",
      "metadata": {
        "id": "9C49DLB-3hAq"
      },
      "source": [
        "df_pre['major_discipline'].value_counts()"
      ],
      "execution_count": null,
      "outputs": []
    },
    {
      "cell_type": "code",
      "metadata": {
        "id": "B691IV9_520m"
      },
      "source": [
        "major = df_pre['major_discipline'].value_counts().idxmax()\n",
        "major"
      ],
      "execution_count": null,
      "outputs": []
    },
    {
      "cell_type": "code",
      "metadata": {
        "id": "m6cwTSy252yK"
      },
      "source": [
        "df_pre['major_discipline'].fillna(major, inplace=True)"
      ],
      "execution_count": null,
      "outputs": []
    },
    {
      "cell_type": "code",
      "metadata": {
        "id": "vjMRyxJw52vP"
      },
      "source": [
        "df_pre.loc[df_pre['major_discipline'] == 'STEM', 'major_discipline'] = 'major'\n",
        "df_pre.loc[df_pre['major_discipline'] != 'major', 'major_discipline'] = 'no_major'"
      ],
      "execution_count": null,
      "outputs": []
    },
    {
      "cell_type": "code",
      "metadata": {
        "id": "LqrglhJd52sn"
      },
      "source": [
        "df_pre['major_discipline'].value_counts(dropna=False)"
      ],
      "execution_count": null,
      "outputs": []
    },
    {
      "cell_type": "code",
      "metadata": {
        "id": "VQU9_7ay52qU"
      },
      "source": [
        "df_pre['company_size'].fillna('unknown', inplace=True)\n",
        "df_pre['company_type'].fillna('unknown', inplace=True)"
      ],
      "execution_count": null,
      "outputs": []
    },
    {
      "cell_type": "code",
      "metadata": {
        "id": "sgfh8Wnh52nx"
      },
      "source": [
        "df_pre.isna().sum()"
      ],
      "execution_count": null,
      "outputs": []
    },
    {
      "cell_type": "code",
      "metadata": {
        "id": "vGdZoESC52lh"
      },
      "source": [
        "df_pre.head()"
      ],
      "execution_count": null,
      "outputs": []
    },
    {
      "cell_type": "code",
      "metadata": {
        "id": "ktFUvs85xpsr"
      },
      "source": [
        "gender_map = {\n",
        "        'Female': 2,\n",
        "        'Male': 1,\n",
        "        'Other': 0\n",
        "         }\n",
        "\n",
        "relevent_experience_map = {\n",
        "    'Has relevent experience':  1,\n",
        "    'No relevent experience' :  0\n",
        "}\n",
        "\n",
        "\n",
        "major_map ={ \n",
        "    'major'                   :    1,\n",
        "    'no_major'        :    0\n",
        "}\n",
        "    \n",
        "\n",
        "    \n",
        "company_type_map = {\n",
        "    'Pvt Ltd'               :    0,\n",
        "    'Funded Startup'        :    1, \n",
        "    'Early Stage Startup'   :    2, \n",
        "    'Other'                 :    3, \n",
        "    'Public Sector'         :    4, \n",
        "    'NGO'                   :    5,\n",
        "        'unknown'      :    6,\n",
        "\n",
        "}\n",
        "\n",
        "company_size_map = {\n",
        "    '<10'          :    0,\n",
        "    '10/49'        :    1, \n",
        "    '100-500'      :    2, \n",
        "    '1000-4999'    :    3, \n",
        "    '10000+'       :    4, \n",
        "    '50-99'        :    5, \n",
        "    '500-999'      :    6, \n",
        "    '5000-9999'    :    7,\n",
        "    'unknown'      :    8,\n",
        "}\n",
        "    \n"
      ],
      "execution_count": null,
      "outputs": []
    },
    {
      "cell_type": "code",
      "metadata": {
        "id": "LITL04Ogxpoq"
      },
      "source": [
        "df_pre['company_size'] = df_pre['company_size'].map(company_size_map)\n",
        "df_pre['company_type'] = df_pre['company_type'].map(company_type_map)\n",
        "df_pre['major_discipline'] = df_pre['major_discipline'].map(major_map)\n",
        "df_pre['relevent_experience'] = df_pre['relevent_experience'].map(relevent_experience_map)\n",
        "df_pre['gender'] = df_pre['gender'].map(gender_map)\n"
      ],
      "execution_count": null,
      "outputs": []
    },
    {
      "cell_type": "code",
      "metadata": {
        "id": "KSBd-hZ6xpjH"
      },
      "source": [
        "df_pre.info()"
      ],
      "execution_count": null,
      "outputs": []
    },
    {
      "cell_type": "code",
      "metadata": {
        "id": "seGvvBdFzDzk"
      },
      "source": [
        ""
      ],
      "execution_count": null,
      "outputs": []
    },
    {
      "cell_type": "code",
      "metadata": {
        "id": "_tw5sCtQzDw1"
      },
      "source": [
        ""
      ],
      "execution_count": null,
      "outputs": []
    },
    {
      "cell_type": "code",
      "metadata": {
        "id": "LSEsU8iTxpfb"
      },
      "source": [
        ""
      ],
      "execution_count": null,
      "outputs": []
    },
    {
      "cell_type": "code",
      "metadata": {
        "id": "fX3-ainG61FK"
      },
      "source": [
        "category_feature = ['gender', 'relevent_experience', \n",
        "                    'major_discipline', 'company_size', 'company_type']\n",
        "\n",
        "numeric_feature = ['city','city_development_index', 'training_hours', \n",
        "'education_level', 'last_new_job',  'experience', 'enrolled_university']\n",
        "\n",
        "df_numeric_feature = df_pre[numeric_feature]\n",
        "df_categorical = df_pre[category_feature]\n",
        "df_categorical.head()                   "
      ],
      "execution_count": null,
      "outputs": []
    },
    {
      "cell_type": "code",
      "metadata": {
        "id": "RVTYHcYi61C5"
      },
      "source": [
        "ohe = OneHotEncoder()\n",
        "X = ohe.fit_transform(df_categorical)\n",
        "ohe.get_feature_names()"
      ],
      "execution_count": null,
      "outputs": []
    },
    {
      "cell_type": "code",
      "metadata": {
        "id": "F4AY5K-L-Qss"
      },
      "source": [
        "X = X.toarray()\n",
        "X_df = pd.DataFrame(X, columns=ohe.get_feature_names())\n",
        "X_df.shape"
      ],
      "execution_count": null,
      "outputs": []
    },
    {
      "cell_type": "code",
      "metadata": {
        "id": "nA7SXx79-THz"
      },
      "source": [
        "df_numeric_feature.shape"
      ],
      "execution_count": null,
      "outputs": []
    },
    {
      "cell_type": "code",
      "metadata": {
        "id": "BX5nsQkZ-YD5"
      },
      "source": [
        "df = pd.concat([X_df,df_numeric_feature,df_pre['target']],axis = 1).reset_index(drop = True)\n",
        "\n",
        "df.rename(columns = {\"x3_<10\": \"x3_10-\"}, inplace=True)\n",
        "df.columns"
      ],
      "execution_count": null,
      "outputs": []
    },
    {
      "cell_type": "code",
      "metadata": {
        "id": "1yViPkZHzE4n"
      },
      "source": [
        ""
      ],
      "execution_count": null,
      "outputs": []
    },
    {
      "cell_type": "code",
      "metadata": {
        "id": "TF0MEukjzE2S"
      },
      "source": [
        ""
      ],
      "execution_count": null,
      "outputs": []
    },
    {
      "cell_type": "code",
      "metadata": {
        "id": "nxzlzq6NBTsW"
      },
      "source": [
        "train = df_pre[df_pre['target'] != -1].reset_index(drop = True)\n",
        "test = df_pre[df_pre['target'] == -1].reset_index(drop = True)\n",
        "\n",
        "test = test.drop(['enrollee_id','target'], axis = 1)\n",
        "\n",
        "X = train.drop(['enrollee_id', 'target'], axis = 1)\n",
        "Y = train['target']\n",
        "X.shape, Y.shape"
      ],
      "execution_count": null,
      "outputs": []
    },
    {
      "cell_type": "code",
      "metadata": {
        "id": "zQ1HmPmoRhUO"
      },
      "source": [
        "test.head()"
      ],
      "execution_count": null,
      "outputs": []
    },
    {
      "cell_type": "code",
      "metadata": {
        "id": "9GUYQSTgM3yQ"
      },
      "source": [
        "X_train, X_test, y_train, y_test = train_test_split(X, Y, test_size = 0.2 , stratify = Y, shuffle=True, random_state = 42)\n",
        "\n",
        "models = []\n",
        "models.append(('KNN', KNeighborsClassifier()))\n",
        "models.append(('TREE', DecisionTreeClassifier(random_state = 42)))\n",
        "models.append(('Random Forest', RandomForestClassifier(random_state = 42)))\n",
        "models.append(('SVM', SVC(gamma='auto', random_state = 42)))\n",
        "models.append(('XGBoost', XGBClassifier(random_state = 42)))\n",
        "models.append(('GradientBoosting', GradientBoostingClassifier(random_state = 42)))\n",
        "\n",
        "# evaluate each model in turn\n",
        "results = []\n",
        "names = []"
      ],
      "execution_count": null,
      "outputs": []
    },
    {
      "cell_type": "code",
      "metadata": {
        "id": "3ahkgEyBM3uW"
      },
      "source": [
        "clf = XGBClassifier(learning_rate=0.02, n_estimators=300,objective='binary:logistic')\n",
        "\n",
        "xgb_param_grid = {'max_depth':[3,5,6,8,10],\n",
        "                  'subsample': [0.6, 0.8, 1.0],}\n",
        "\n",
        "\n",
        "hr_grid = GridSearchCV(estimator=clf,\n",
        "                       param_grid=xgb_param_grid,\n",
        "                       scoring='accuracy',\n",
        "                       n_jobs=-1,\n",
        "                       cv=5,\n",
        "                       refit=True, \n",
        "                       return_train_score=True)\n",
        "\n",
        "hr_grid.fit(X_train, y_train,eval_metric=[\"error\", \"logloss\"],\n",
        "            eval_set = [(X_train, y_train), (X_test, y_test)], verbose=0)"
      ],
      "execution_count": null,
      "outputs": []
    },
    {
      "cell_type": "code",
      "metadata": {
        "id": "MY4cJ7MgM3sv"
      },
      "source": [
        "print(hr_grid.best_estimator_)\n",
        "print(hr_grid.best_params_)\n",
        "print(hr_grid.best_score_)"
      ],
      "execution_count": null,
      "outputs": []
    },
    {
      "cell_type": "code",
      "metadata": {
        "id": "qFXMw09PQENc"
      },
      "source": [
        "Model = XGBClassifier(learning_rate=0.02, n_estimators=300,\n",
        "                    objective='binary:logistic',max_depth = hr_grid.best_params_['max_depth'], subsample = hr_grid.best_params_['subsample'])\n",
        "Model.fit(X_train,y_train,eval_metric=[\"error\", \"logloss\"],\n",
        "            eval_set = [(X_train, y_train), (X_test, y_test)],verbose=0)"
      ],
      "execution_count": null,
      "outputs": []
    },
    {
      "cell_type": "code",
      "metadata": {
        "id": "usg2MDRdM3oo"
      },
      "source": [
        "y_pred_t = Model.predict(X_train)\n",
        "y_pred = Model.predict(X_test)\n",
        "\n",
        "accuracy_train = accuracy_score(y_train, y_pred_t)\n",
        "accuracy_test = accuracy_score(y_test, y_pred)\n",
        "\n",
        "print(\"Accuracy: %.2f%%\" % (accuracy_train * 100.0))\n",
        "print(\"Accuracy: %.2f%%\" % (accuracy_test * 100.0))\n",
        "print(classification_report(y_test,y_pred))"
      ],
      "execution_count": null,
      "outputs": []
    },
    {
      "cell_type": "code",
      "metadata": {
        "id": "HUPq5zPkM3mD"
      },
      "source": [
        "results = Model.evals_result()\n",
        "epochs = len(results['validation_0']['error'])\n",
        "x_axis = range(0, epochs)\n",
        "# plot log loss\n",
        "fig, ax = plt.subplots(figsize=(12,7))\n",
        "ax.plot(x_axis, results['validation_0']['logloss'], label='Train')\n",
        "ax.plot(x_axis, results['validation_1']['logloss'], label='Test')\n",
        "ax.legend()\n",
        "plt.ylabel('Log Loss')\n",
        "plt.title('XGBoost Log Loss')\n",
        "plt.show()"
      ],
      "execution_count": null,
      "outputs": []
    },
    {
      "cell_type": "code",
      "metadata": {
        "id": "DNf6t-CUSzt-"
      },
      "source": [
        ""
      ],
      "execution_count": null,
      "outputs": []
    },
    {
      "cell_type": "code",
      "metadata": {
        "id": "Vt63PwPlSzrZ"
      },
      "source": [
        ""
      ],
      "execution_count": null,
      "outputs": []
    },
    {
      "cell_type": "code",
      "metadata": {
        "id": "vvlb975BBlP1"
      },
      "source": [
        "from imblearn.over_sampling import SMOTE\n",
        "\n",
        "sm = SMOTE(random_state=42)\n",
        "X_os, Y_os = sm.fit_resample(X,Y)\n",
        "\n",
        "sns.countplot(Y_os, edgecolor = 'black')\n",
        "\n",
        "X_train, X_test, y_train, y_test = train_test_split(X_os, Y_os, test_size = 0.2, stratify = Y_os, shuffle=True,random_state = 42)"
      ],
      "execution_count": null,
      "outputs": []
    },
    {
      "cell_type": "code",
      "metadata": {
        "id": "l2bgsc64iYAJ"
      },
      "source": [
        "X_train.shape"
      ],
      "execution_count": null,
      "outputs": []
    },
    {
      "cell_type": "code",
      "metadata": {
        "id": "AKQ_OJ1IBlLS"
      },
      "source": [
        "clf_os = XGBClassifier()\n",
        "clf_os.fit(X_train, y_train,eval_metric=[\"error\", \"logloss\"],\n",
        "             eval_set = [(X_train, y_train), (X_test, y_test)],verbose = 0)\n",
        "\n",
        "y_pred_t = clf_os.predict(X_train)\n",
        "y_pred = clf_os.predict(X_test)\n",
        "\n",
        "accuracy_train = accuracy_score(y_train, y_pred_t)\n",
        "accuracy_test = accuracy_score(y_test, y_pred)\n",
        "\n",
        "print(\"Accuracy: %.2f%%\" % (accuracy_train * 100.0))\n",
        "print(\"Accuracy: %.2f%%\" % (accuracy_test * 100.0))\n",
        "print(classification_report(y_test,y_pred))"
      ],
      "execution_count": null,
      "outputs": []
    },
    {
      "cell_type": "code",
      "metadata": {
        "id": "DFneAWS_BlIY"
      },
      "source": [
        "clf_os = XGBClassifier(learning_rate=0.02, n_estimators=300,objective='binary:logistic')\n",
        "\n",
        "xgb_param_grid = {'max_depth':[3,5,6,8,10],\n",
        "                  'subsample': [0.6, 0.8, 1.0],}\n",
        "\n",
        "\n",
        "hr_grid = GridSearchCV(estimator=clf_os,\n",
        "                       param_grid=xgb_param_grid,\n",
        "                       scoring='accuracy',\n",
        "                       n_jobs=-1,\n",
        "                       cv=5,\n",
        "                       refit=True, \n",
        "                       return_train_score=True)\n",
        "\n",
        "hr_grid.fit(X_train, y_train,eval_metric=[\"error\", \"logloss\"],verbose = 0)"
      ],
      "execution_count": null,
      "outputs": []
    },
    {
      "cell_type": "code",
      "metadata": {
        "id": "ZvbCOwtFDPr2"
      },
      "source": [
        "print(hr_grid.best_estimator_)\n",
        "print(hr_grid.best_params_)\n",
        "print(hr_grid.best_score_)"
      ],
      "execution_count": null,
      "outputs": []
    },
    {
      "cell_type": "code",
      "metadata": {
        "id": "Be7qB5ENDPpk"
      },
      "source": [
        "# {'max_depth': 10, 'subsample': 0.8}\n",
        "Model = XGBClassifier(learning_rate=0.02, n_estimators=300, max_depth = hr_grid.best_params_['max_depth'],\n",
        "                      subsample = hr_grid.best_params_['subsample'],objective='binary:logistic')\n",
        "Model.fit(X_train,y_train,eval_metric=[\"error\", \"logloss\"],\n",
        "            eval_set = [(X_train, y_train), (X_test, y_test)],verbose=0)\n"
      ],
      "execution_count": null,
      "outputs": []
    },
    {
      "cell_type": "code",
      "metadata": {
        "id": "NV0kkPV5BlEi"
      },
      "source": [
        "y_pred_t = Model.predict(X_train)\n",
        "y_pred = Model.predict(X_test)\n",
        "\n",
        "accuracy_train = accuracy_score(y_train, y_pred_t)\n",
        "accuracy_test = accuracy_score(y_test, y_pred)\n",
        "\n",
        "print(\"Accuracy: %.2f%%\" % (accuracy_train * 100.0))\n",
        "print(\"Accuracy: %.2f%%\" % (accuracy_test * 100.0))\n",
        "print(classification_report(y_test,y_pred))"
      ],
      "execution_count": null,
      "outputs": []
    },
    {
      "cell_type": "code",
      "metadata": {
        "id": "m3Y6wW9avmr9"
      },
      "source": [
        "roc_auc_score_train = roc_auc_score(y_train, y_pred_t)\n",
        "roc_auc_score_test = roc_auc_score(y_test, y_pred)\n",
        "\n",
        "print(\"Accuracy: %.2f%%\" % (roc_auc_score_train * 100.0))\n",
        "print(\"Accuracy: %.2f%%\" % (roc_auc_score_test * 100.0))"
      ],
      "execution_count": null,
      "outputs": []
    },
    {
      "cell_type": "code",
      "metadata": {
        "id": "uaQWFx3yf27K"
      },
      "source": [
        "test_n = test.to_numpy()\n",
        "\n",
        "y_pred = Model.predict(test_n)\n",
        "accuracy_test = accuracy_score(y_pred, target)\n",
        "print(\"Accuracy: %.2f%%\" % (accuracy_test * 100.0))"
      ],
      "execution_count": null,
      "outputs": []
    },
    {
      "cell_type": "code",
      "metadata": {
        "id": "EIrmg3y5NG3t"
      },
      "source": [
        "from imblearn.under_sampling import OneSidedSelection\n",
        "from imblearn.under_sampling import TomekLinks\n",
        "\n",
        "undersample  = TomekLinks(random_state=42)\n",
        "X_us, Y_us = undersample.fit_resample(X, Y)\n",
        "\n",
        "# X_us, X_us = TomekLinks().fit_sample(X_imb, y_imb)  \n",
        "\n",
        "\n",
        "sns.countplot(Y_us, edgecolor = 'black')\n",
        "\n",
        "X_train, X_test, y_train, y_test = train_test_split(X_us, Y_us, test_size = 0.2, stratify = Y_us, shuffle=True,random_state = 42)"
      ],
      "execution_count": null,
      "outputs": []
    },
    {
      "cell_type": "code",
      "metadata": {
        "id": "1OCMml2qNG1y"
      },
      "source": [
        "clf_us = XGBClassifier(learning_rate=0.02, n_estimators=300,objective='binary:logistic')\n",
        "\n",
        "xgb_param_grid = {'max_depth':[3,5,6,8,10],\n",
        "                  'subsample': [0.6, 0.8, 1.0],}\n",
        "\n",
        "\n",
        "hr_grid = GridSearchCV(estimator=clf_us,\n",
        "                       param_grid=xgb_param_grid,\n",
        "                       scoring='accuracy',\n",
        "                       n_jobs=-1,\n",
        "                       cv=5,\n",
        "                       refit=True, \n",
        "                       return_train_score=True)\n",
        "\n",
        "hr_grid.fit(X_train, y_train, eval_metric=[\"error\", \"logloss\"],\n",
        "            eval_set = [(X_train, y_train), (X_test, y_test)],verbose = 0)"
      ],
      "execution_count": null,
      "outputs": []
    },
    {
      "cell_type": "code",
      "metadata": {
        "id": "7H-17F4ZON6X"
      },
      "source": [
        "print(hr_grid.best_estimator_)\n",
        "print(hr_grid.best_params_)\n",
        "print(hr_grid.best_score_)"
      ],
      "execution_count": null,
      "outputs": []
    },
    {
      "cell_type": "code",
      "metadata": {
        "id": "RfFRJ-sxOO94"
      },
      "source": [
        "#{'max_depth': 5, 'subsample': 1.0}\n",
        "Model = XGBClassifier(learning_rate=0.02, n_estimators=300, max_depth = hr_grid.best_params_['max_depth'],\n",
        "                      subsample = hr_grid.best_params_['subsample'],objective='binary:logistic')\n",
        "Model.fit(X_train,y_train,eval_metric=[\"error\", \"logloss\"],\n",
        "            eval_set = [(X_train, y_train), (X_test, y_test)],verbose=0)"
      ],
      "execution_count": null,
      "outputs": []
    },
    {
      "cell_type": "code",
      "metadata": {
        "id": "cGFW0MVPOP2A"
      },
      "source": [
        "y_pred_t = Model.predict(X_train)\n",
        "y_pred = Model.predict(X_test)\n",
        "\n",
        "accuracy_train = accuracy_score(y_train, y_pred_t)\n",
        "accuracy_test = accuracy_score(y_test, y_pred)\n",
        "\n",
        "print(\"Accuracy: %.2f%%\" % (accuracy_train * 100.0))\n",
        "print(\"Accuracy: %.2f%%\" % (accuracy_test * 100.0))\n",
        "print(classification_report(y_test,y_pred))"
      ],
      "execution_count": null,
      "outputs": []
    }
  ]
}