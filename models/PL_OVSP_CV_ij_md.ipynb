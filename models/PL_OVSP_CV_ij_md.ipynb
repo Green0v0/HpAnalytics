{
 "cells": [
  {
   "cell_type": "markdown",
   "id": "viral-quebec",
   "metadata": {},
   "source": [
    "#### nopoly-nooversampling\n",
    "\n",
    "train accuracy : 0.8080456570155902\n",
    "validation accuracy : 0.7937369519832985\n",
    "\n",
    "#### poly-nooversampling\n",
    "\n",
    "train accuracy : 0.8199471046770601\n",
    "validation accuracy : 0.7901878914405011\n",
    "\n",
    "#### nopoly-oversampling\n",
    "\n",
    "train accuracy : 0.8430690774223458\n",
    "validation accuracy : 0.7851774530271399\n",
    "\n",
    "#### poly-oversampleling\n",
    "\n",
    "train accuracy : 0.8493277700509968\n",
    "validation accuracy : 0.7889352818371608"
   ]
  }
 ],
 "metadata": {
  "kernelspec": {
   "display_name": "Python 3",
   "language": "python",
   "name": "python3"
  },
  "language_info": {
   "codemirror_mode": {
    "name": "ipython",
    "version": 3
   },
   "file_extension": ".py",
   "mimetype": "text/x-python",
   "name": "python",
   "nbconvert_exporter": "python",
   "pygments_lexer": "ipython3",
   "version": "3.7.10"
  }
 },
 "nbformat": 4,
 "nbformat_minor": 5
}
